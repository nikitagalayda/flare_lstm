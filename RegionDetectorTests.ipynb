{
 "cells": [
  {
   "cell_type": "code",
   "execution_count": 134,
   "id": "07ee0d5a-8f9e-4da2-bd42-55a0b27d277d",
   "metadata": {},
   "outputs": [],
   "source": [
    "import numpy as np\n",
    "import pandas as pd\n",
    "import matplotlib.pyplot as plt\n",
    "import sunpy.map\n",
    "from sunpy.time import parse_time\n",
    "from astropy.io import fits\n",
    "from astropy.time import Time\n",
    "import matplotlib.patches as pac\n",
    "import math\n",
    "import matplotlib.image as mpimg\n",
    "from PIL import Image\n",
    "import os\n",
    "import math\n",
    "import datetime\n",
    "from sklearn import preprocessing\n",
    "from sklearn.metrics import mean_squared_error\n",
    "import cv2\n",
    "import matplotlib.cm as cm\n",
    "from matplotlib.colors import Normalize\n",
    "\n",
    "from utils import *"
   ]
  },
  {
   "cell_type": "code",
   "execution_count": 135,
   "id": "1d8d9154-d023-490d-9bd8-a51afa60052b",
   "metadata": {},
   "outputs": [],
   "source": [
    "pd.options.display.max_columns = None"
   ]
  },
  {
   "cell_type": "code",
   "execution_count": 136,
   "id": "e7f222dd-a72f-463c-93fd-c0eef540c4e0",
   "metadata": {},
   "outputs": [],
   "source": [
    "AIA_DATA_DIR = '../../MVTS_data_preparation/data'\n",
    "EVENTS_BY_DATE_DIR = './events_by_date/'"
   ]
  },
  {
   "cell_type": "code",
   "execution_count": 137,
   "id": "5bba26c7-ddb9-4271-9089-b934ffc8b879",
   "metadata": {},
   "outputs": [],
   "source": [
    "CDELT = 0.599733;\n",
    "HPCCENTER = 4096.0 / 2.0;\n",
    "rsun_meters = 696000;\n",
    "dsun_meters = 149600000;\n",
    "DEFAULT_WIDTH, DEFAULT_HEIGHT = 64, 64\n",
    "IMAGE_WIDTH, IMAGE_HEIGHT = 512, 512\n",
    "NMS_KERNEL_SIZE = 4"
   ]
  },
  {
   "cell_type": "code",
   "execution_count": 138,
   "id": "4808b61a-b440-40ac-af52-a1bf0ce13b29",
   "metadata": {},
   "outputs": [],
   "source": [
    "def GetKMeansData(image, original_shape, k=5):\n",
    "    image = image.flatten()\n",
    "    criteria = (cv2.TERM_CRITERIA_EPS + cv2.TERM_CRITERIA_MAX_ITER, 100, 0.85)\n",
    "    retval, labels, centers = cv2.kmeans(image, k, None, criteria, 10, cv2.KMEANS_RANDOM_CENTERS)\n",
    "\n",
    "    # convert data into 8-bit values\n",
    "    centers = np.uint8(centers)\n",
    "    segmented_data = centers[labels.flatten()]\n",
    "\n",
    "    # reshape data into the original image dimensions\n",
    "    segmented_image = segmented_data.reshape(original_shape)\n",
    "    \n",
    "    return segmented_image"
   ]
  },
  {
   "cell_type": "code",
   "execution_count": 139,
   "id": "348d3332-1a3e-40fb-9345-9f34817d7368",
   "metadata": {},
   "outputs": [],
   "source": [
    "def GetClosestDataFileByDate(dt, rounding, wave='AIA'):\n",
    "    data_date = f'{dt.year}{dt.month:02d}{dt.day:02d}'\n",
    "    tmp_dt = dt\n",
    "    minute = 0\n",
    "    \n",
    "    ending = '0094'\n",
    "    cadence = 6\n",
    "    if wave == 'HMI':\n",
    "        ending = 'bz'\n",
    "        cadence = 12\n",
    "        \n",
    "    if(rounding == \"down\"):\n",
    "        minute = GetClosestMultipleDown(dt.minute, cadence)\n",
    "    elif(rounding == \"up\"):\n",
    "        minute = GetClosestMultipleUp(dt.minute, cadence)\n",
    "    \n",
    "    if(minute == 60):\n",
    "        tmp_dt = tmp_dt + datetime.timedelta(hours=1)\n",
    "        minute = 0\n",
    "    \n",
    "    \n",
    "        \n",
    "    data_time = f'{dt.hour:02d}{minute:02d}'\n",
    "    data_filename = f'{wave}{data_date}_{data_time}_{ending}.npz'\n",
    "    \n",
    "    return data_filename"
   ]
  },
  {
   "cell_type": "code",
   "execution_count": 140,
   "id": "c0b768d7-a604-48d0-9226-d2c02fead137",
   "metadata": {},
   "outputs": [],
   "source": [
    "def GetEventStartFrameData(year, month, event_id, wave='AIA'):\n",
    "    year_flares_df = pd.read_csv(f'{EVENTS_BY_DATE_DIR}/{year}/{month}.csv')\n",
    "    data = year_flares_df.loc[year_flares_df.iloc[:, 0] == event_id]\n",
    "    details, start_datetime, end_datetime = data['fl_goescls'], parse_time(data['event_peaktime']).datetime[0], parse_time(data['event_endtime']).datetime[0]\n",
    "    data_dir = AIA_DATA_DIR\n",
    "    if wave == 'HMI':\n",
    "        data_dir = HMI_DATA_DIR\n",
    "    \n",
    "    # find the folders holding the data points\n",
    "    start_datetime_data_dir = os.path.join(data_dir, f'{start_datetime.year}/{start_datetime.month:02d}/{start_datetime.day:02d}')\n",
    "    \n",
    "    # get the data filename closest to the starting and ending dates\n",
    "    closest_starting_data_file = GetClosestDataFileByDate(start_datetime, \"up\", wave)\n",
    "    file_path = os.path.join(start_datetime_data_dir, closest_starting_data_file)\n",
    "    \n",
    "    if not os.path.exists(file_path):\n",
    "        print(f\"This frame doesn't exist \\n path: {file_path}\")\n",
    "        return\n",
    "    \n",
    "    frame_array = np.load(file_path)['x']\n",
    "\n",
    "    # get the coordinate of the event\n",
    "    hpc_x, hpc_y = data['hpc_x'], data['hpc_y']\n",
    "    coord = ConvertHPCToPixXY((hpc_x, hpc_y))\n",
    "    coord = (coord[0] // 8, IMAGE_HEIGHT-coord[1] // 8)\n",
    "    coord = (int(coord[0].values[0]), int(coord[1].values[0]))\n",
    "    print(f'event coordinates: {coord}')\n",
    "    \n",
    "    return frame_array, coord"
   ]
  },
  {
   "cell_type": "code",
   "execution_count": 141,
   "id": "72500e3a-84f2-47d7-9bf2-b4b07cecc2c8",
   "metadata": {
    "tags": []
   },
   "outputs": [],
   "source": [
    "def DemoTwoWaves(year, month, event_id):\n",
    "    # AIA_path = f'data/{dt.year}/{dt.month:02}/{dt.day:02}/AIA{dt.year}{dt.month:02}{dt.day:02}_{dt.hour:02}{dt.minute:02}_0094.npz'\n",
    "    # HMI_path = f'data/HMI_Bz/{dt.year}/{dt.month:02}/{dt.day:02}/HMI{dt.year}{dt.month:02}{dt.day:02}_{dt.hour:02}{dt.minute:02}_bz.npz'\n",
    "    \n",
    "    AIA, true_coord = GetEventStartFrameData(year, month, event_id, 'AIA')\n",
    "    HMI, unused = GetEventStartFrameData(year, month, event_id, 'HMI')\n",
    "    \n",
    "    fig, axs = plt.subplots(1, 2, figsize=(18,18))\n",
    "    normalizer=Normalize(0,1)\n",
    "    im=cm.ScalarMappable(norm=normalizer)\n",
    "    \n",
    "    # AIA = LoadNormalizedData(AIA_path)\n",
    "    # HMI = LoadNormalizedData(HMI_path)\n",
    "    \n",
    "    # AIA, HMI = NormalizeData(HMI), NormalizeData(HMI)\n",
    "    \n",
    "    AIA_kmeans = GetKMeansData(AIA*255, AIA.shape, 4)\n",
    "    HMI_kmeans = GetKMeansData(HMI*255, HMI.shape, 4)\n",
    "    \n",
    "    plots = [[AIA, HMI],[AIA_kmeans, HMI_kmeans]]\n",
    "    \n",
    "    print(f'true coordinate: {true_coord}')\n",
    "    maxindex = np.unravel_index(AIA.argmax(), AIA.shape)\n",
    "    axs[0].imshow(AIA)\n",
    "    # axs[0].scatter(maxindex[1], maxindex[0], color='cyan')\n",
    "    axs[0].scatter(true_coord[0], true_coord[1], color='r')\n",
    "    \n",
    "    maxindex = np.unravel_index(HMI.argmax(), HMI.shape)\n",
    "    axs[1].imshow(HMI)\n",
    "    axs[1].scatter(maxindex[1], maxindex[0], color='cyan')\n",
    "    axs[1].scatter(true_coord[0], true_coord[1], color='r')\n",
    "        \n",
    "    fig.colorbar(im, ax=axs.ravel().tolist())\n",
    "    plt.show()\n",
    "    \n",
    "    fig, axs1 = plt.subplots(1, 2, figsize=(18,18))\n",
    "    # tmp = GetHighestRegion(AIA)\n",
    "    tmp = NMSImage(AIA)\n",
    "    print(tmp.shape)\n",
    "    # tmp = np.reshape(tmp, (-1, int(np.sqrt(tmp.shape))))\n",
    "    # tmp = np.reshape(tmp, (-1, IMAGE_HEIGHT))\n",
    "    coords = np.unravel_index(tmp.argmax(), tmp.shape)\n",
    "    upsampled_coords = (int(coords[0]*5), int(coords[1]*5))\n",
    "    \n",
    "    # tmp1 = GetHighestRegion(HMI)\n",
    "    tmp1 = NMSImage(HMI)\n",
    "    # tmp1 = np.reshape(tmp1, (-1, int(np.sqrt(tmp1.shape))))\n",
    "    # tmp1 = np.reshape(tmp1, (-1, IMAGE_HEIGHT))\n",
    "    coords1 = np.unravel_index(tmp1.argmax(), tmp1.shape)\n",
    "    \n",
    "    axs1[0].imshow(AIA)\n",
    "    axs1[0].scatter(upsampled_coords[1], upsampled_coords[0], color='r')\n",
    "    \n",
    "    axs1[1].imshow(tmp1)\n",
    "    axs1[1].scatter(coords1[1], coords1[0], color='r')\n",
    "    plt.show()"
   ]
  },
  {
   "cell_type": "code",
   "execution_count": 142,
   "id": "fd1e3f76-0338-4042-a671-7f547caeb670",
   "metadata": {},
   "outputs": [],
   "source": [
    "def GetTopNDistancedPoints(im, n=3, distance_threshold=15):\n",
    "    im_dict = Image2DToDict(im)\n",
    "    distanced_points = set()\n",
    "    im_dict = {k: v for k, v in sorted(im_dict.items(), key=lambda item: item[1], reverse=True)}\n",
    "    counter = 0\n",
    "    \n",
    "    for k, v in im_dict.items():\n",
    "        if counter >= n:\n",
    "            break\n",
    "        if not distanced_points:\n",
    "            distanced_points.add(k)\n",
    "            counter += 1\n",
    "            continue\n",
    "        above_threshold = True\n",
    "        for p in distanced_points:\n",
    "            dist = PixelDistance(k, p)\n",
    "            if dist < distance_threshold:\n",
    "                above_threshold = False\n",
    "                break\n",
    "        if above_threshold:\n",
    "            distanced_points.add(k)\n",
    "            counter += 1\n",
    "    \n",
    "    return distanced_points"
   ]
  },
  {
   "cell_type": "code",
   "execution_count": 143,
   "id": "520fe091-2986-4cd1-939f-e9f57dde4224",
   "metadata": {},
   "outputs": [],
   "source": [
    "def GetNMSHighestPoint(im, k=NMS_KERNEL_SIZE):\n",
    "    nms_im = NMSImage(im, k)\n",
    "    coords = np.unravel_index(nms_im.argmax(), nms_im.shape)\n",
    "    upsampled_coords = (math.floor(coords[1]*(k//2)), math.floor(coords[0]*(k//2)))\n",
    "    \n",
    "    return upsampled_coords"
   ]
  },
  {
   "cell_type": "code",
   "execution_count": 144,
   "id": "33f8e7bb-242e-4f09-8b7f-2bc7731b4103",
   "metadata": {},
   "outputs": [],
   "source": [
    "def GetFrameIncrementing(start_datetime, cadence=6):\n",
    "    start_datetime_data_dir = os.path.join(AIA_DATA_DIR, f'{start_datetime.year}/{start_datetime.month:02d}/{start_datetime.day:02d}')\n",
    "    closest_starting_data_file = GetClosestDataFileByDate(start_datetime, \"up\")\n",
    "    file_path = os.path.join(start_datetime_data_dir, closest_starting_data_file)\n",
    "    if not os.path.exists(file_path):\n",
    "        new_time = start_datetime + datetime.timedelta(minutes=cadence)\n",
    "        print(f\"file doesn't exist - time: {start_datetime} trying: {new_time}\")\n",
    "        return GetFrameIncrementing(new_time)\n",
    "    \n",
    "    return np.load(file_path)['x']"
   ]
  },
  {
   "cell_type": "code",
   "execution_count": 145,
   "id": "f79bd43f-c9e0-45e5-a1e1-0844e64f0008",
   "metadata": {},
   "outputs": [],
   "source": [
    "def GetFrameDataFromHEKDataRow(data):\n",
    "    details, start_datetime, end_datetime = data['fl_goescls'], parse_time(data['event_starttime']).datetime, parse_time(data['event_endtime']).datetime\n",
    "    \n",
    "    # find the folders holding the data points\n",
    "    start_datetime_data_dir = os.path.join(AIA_DATA_DIR, f'{start_datetime.year}/{start_datetime.month:02d}/{start_datetime.day:02d}')\n",
    "    \n",
    "    closest_starting_data_file = GetClosestDataFileByDate(start_datetime, \"up\")\n",
    "    file_path = os.path.join(start_datetime_data_dir, closest_starting_data_file)\n",
    "    \n",
    "    # im = GetFrameIncrementing(start_datetime)\n",
    "    start_datetime_data_dir = os.path.join(AIA_DATA_DIR, f'{start_datetime.year}/{start_datetime.month:02d}/{start_datetime.day:02d}')\n",
    "    closest_starting_data_file = GetClosestDataFileByDate(start_datetime, \"up\")\n",
    "    file_path = os.path.join(start_datetime_data_dir, closest_starting_data_file)\n",
    "    if not os.path.exists(file_path):\n",
    "        return None, None\n",
    "    \n",
    "    im = np.load(file_path)['x']\n",
    "    # if not os.path.exists(file_path):\n",
    "    #     print(\"path to file doesn't exist\")\n",
    "    #     return\n",
    "    \n",
    "    # get the coordinate of the event\n",
    "    hpc_x, hpc_y = data['hpc_x'], data['hpc_y']\n",
    "    coord = ConvertHPCToPixXY((hpc_x, hpc_y))\n",
    "    coord = (coord[0] // 8, IMAGE_HEIGHT-coord[1] // 8)\n",
    "    coord = (int(coord[0]), int(coord[1]))\n",
    "    \n",
    "    return im, coord"
   ]
  },
  {
   "cell_type": "code",
   "execution_count": 146,
   "id": "9c9b01e6-0825-48be-abfd-51ebbd78474a",
   "metadata": {},
   "outputs": [],
   "source": [
    "def GetPredictedTrueCoords(year, month_range):\n",
    "    upsample_factor = NMS_KERNEL_SIZE\n",
    "    total_true_values = []\n",
    "    total_predicted_values = []\n",
    "    \n",
    "    for month in month_range:\n",
    "        print('----------------------------------------')\n",
    "        print(f'processing month {month}')\n",
    "        print('----------------------------------------')\n",
    "        event_csv = os.path.join(EVENTS_BY_DATE_DIR, f'{year}/{month}.csv')\n",
    "        if not os.path.exists(event_csv):\n",
    "            continue\n",
    "        event_df = pd.read_csv(event_csv, header=0)\n",
    "        true_values = []\n",
    "        predicted_values = []\n",
    "        \n",
    "        for index, row in event_df.iterrows():\n",
    "            # if index%10 == 0:\n",
    "            #     print(f'processing row {index}/{len(event_df)}')\n",
    "            im, true_coord = GetFrameDataFromHEKDataRow(row)\n",
    "            if im is None or true_coord is None:\n",
    "                print('no data exists for this record, skipping')\n",
    "                continue\n",
    "            predicted_coord = GetNMSHighestPoint(im)\n",
    "            # im = NormalizeData(im)\n",
    "            im = PadMatrixWithValue(im)\n",
    "            nms_im = NMSImage(im)\n",
    "\n",
    "            top_n_points = GetTopNDistancedPoints(nms_im)\n",
    "            true_values.append(true_coord)\n",
    "            predicted_values.append(list(top_n_points))\n",
    "\n",
    "        true_values = [[x[0], x[1]] for x in true_values]\n",
    "        predicted_values = [[[x[1]*upsample_factor, x[0]*upsample_factor] for x in i] for i in predicted_values]\n",
    "        total_true_values += true_values\n",
    "        total_predicted_values += predicted_values\n",
    "        \n",
    "    print(f'total number of predicted coordinates: {len(total_predicted_values)}')\n",
    "    \n",
    "    return total_true_values, total_predicted_values"
   ]
  },
  {
   "cell_type": "code",
   "execution_count": 216,
   "id": "7f25473d-3deb-4631-8f6e-45e9ae80c85d",
   "metadata": {},
   "outputs": [],
   "source": [
    "def GetImageTopNRegionsCutouts(im, N=3):\n",
    "    upsample_factor = NMS_KERNEL_SIZE\n",
    "    im = PadMatrixWithValue(im)\n",
    "    nms_im = NMSImage(im)\n",
    "    top_n_points = list(GetTopNDistancedPoints(nms_im, N))\n",
    "    top_n_points = [[x[0]*upsample_factor, x[1]*upsample_factor] for x in top_n_points]\n",
    "    return GetCoordCutouts(im, top_n_points)"
   ]
  },
  {
   "cell_type": "code",
   "execution_count": 217,
   "id": "44ecfe6e-c9b2-4308-b13d-58708664b41e",
   "metadata": {},
   "outputs": [],
   "source": [
    "# returns an NxN cutout of an AIA image array centered around the given coordinate\n",
    "\n",
    "def GetCutout(im, coord, N=DEFAULT_WIDTH):\n",
    "    x_start = int(coord[0]-N//2)\n",
    "    x_end = int(coord[0]+N//2)\n",
    "    y_start = int(coord[1]-N//2)\n",
    "    y_end = int(coord[1]+N//2)\n",
    "    cutout_array = im[x_start:x_end, y_start:y_end]\n",
    "    \n",
    "    return cutout_array"
   ]
  },
  {
   "cell_type": "code",
   "execution_count": 218,
   "id": "701593bc-c14b-4500-a6f1-f770d8e1a7f3",
   "metadata": {},
   "outputs": [],
   "source": [
    "def GetCoordCutouts(im, coords):\n",
    "    cutouts = []\n",
    "    for coord in coords:\n",
    "        cutouts.append(GetCutout(im, coord))\n",
    "\n",
    "    return cutouts"
   ]
  },
  {
   "cell_type": "code",
   "execution_count": 221,
   "id": "fa17aefd-5497-4796-b37d-cffc1871692b",
   "metadata": {},
   "outputs": [
    {
     "data": {
      "text/plain": [
       "(512, 512)"
      ]
     },
     "execution_count": 221,
     "metadata": {},
     "output_type": "execute_result"
    }
   ],
   "source": [
    "t = np.load('../../MVTS_data_preparation/data/2016/01/01/AIA20160101_1830_0094.npz')['x']\n",
    "t.shape"
   ]
  },
  {
   "cell_type": "code",
   "execution_count": 222,
   "id": "7dcde666-456c-4e7e-8418-37df9f21448b",
   "metadata": {},
   "outputs": [
    {
     "name": "stdout",
     "output_type": "stream",
     "text": [
      "[[192, 440], [228, 52], [272, 440]]\n"
     ]
    },
    {
     "data": {
      "image/png": "[encoded data removed]",
      "text/plain": [
       "<Figure size 432x288 with 1 Axes>"
      ]
     },
     "metadata": {
      "needs_background": "light"
     },
     "output_type": "display_data"
    },
    {
     "data": {
      "image/png": "[encoded data removed]",
      "text/plain": [
       "<Figure size 432x288 with 1 Axes>"
      ]
     },
     "metadata": {
      "needs_background": "light"
     },
     "output_type": "display_data"
    },
    {
     "data": {
      "image/png": "[encoded data removed]",
      "text/plain": [
       "<Figure size 432x288 with 1 Axes>"
      ]
     },
     "metadata": {
      "needs_background": "light"
     },
     "output_type": "display_data"
    }
   ],
   "source": [
    "c = GetImageTopNRegionsCutouts(t)\n",
    "for i in c:\n",
    "    plt.imshow(i)\n",
    "    plt.show()"
   ]
  },
  {
   "cell_type": "code",
   "execution_count": 178,
   "id": "a5a7427c-e65b-45c2-9cb6-1a24080d7bd1",
   "metadata": {},
   "outputs": [],
   "source": [
    "def MultiPointRMSE(true_coords, predicted_coords):\n",
    "    closest_predicted_coords = []\n",
    "    for idx, coords in enumerate(predicted_coords):\n",
    "        min_distance = 9999999\n",
    "        min_distance_coord = coords[0]\n",
    "        for coord in coords:\n",
    "            dist = PixelDistance(coord, true_coords[idx])\n",
    "            if dist < min_distance:\n",
    "                min_distance = dist\n",
    "                min_distance_coord = coord\n",
    "        closest_predicted_coords.append(min_distance_coord)\n",
    "    \n",
    "    rmse =  math.sqrt(mean_squared_error(true_coords, closest_predicted_coords))\n",
    "    print(f'RMSE: {rmse}')\n",
    "    \n",
    "    return rmse"
   ]
  },
  {
   "cell_type": "code",
   "execution_count": 151,
   "id": "bfe3cf3a-4211-4a36-8bf6-2a1d478c59e0",
   "metadata": {},
   "outputs": [],
   "source": [
    "def CalculateKernelSum(im, coord, k=NMS_KERNEL_SIZE):\n",
    "    k_sum = 0\n",
    "    x, y = coord[0], coord[1]\n",
    "    \n",
    "    for i in range(-k, k):\n",
    "        for j in range(-k, k):\n",
    "            try:\n",
    "                k_sum += im[x+i][y+j]\n",
    "            except IndexError:\n",
    "                continue\n",
    "    \n",
    "    return k_sum"
   ]
  },
  {
   "cell_type": "code",
   "execution_count": 152,
   "id": "cef2d9be-acaf-4225-9987-78c60286ca31",
   "metadata": {},
   "outputs": [],
   "source": [
    "def NMSKernel(im, coord, k):\n",
    "    x, y = coord[0], coord[1]\n",
    "    max_val = 0\n",
    "    max_val_coord = coord\n",
    "    \n",
    "    for i in range(-k, k):\n",
    "        for j in range(-k, k):\n",
    "            try:\n",
    "                if im[x+i][y+j] >= max_val:\n",
    "                    max_val = im[x+i][y+j]\n",
    "                    max_val_coord = (x+i, y+j)\n",
    "            except IndexError:\n",
    "                continue\n",
    "                \n",
    "    return max_val_coord"
   ]
  },
  {
   "cell_type": "code",
   "execution_count": 153,
   "id": "c69a0ebf-2c5a-455e-85c8-276f2d0f5636",
   "metadata": {},
   "outputs": [],
   "source": [
    "def GetHighestRegion(im, k=NMS_KERNEL_SIZE):\n",
    "    sums = []\n",
    "\n",
    "    for i in range(0, im.shape[0], k):\n",
    "        tmp = []\n",
    "        for j in range(0, im.shape[1], k):\n",
    "            tmp.append(CalculateKernelSum(im, (i, j)))\n",
    "        sums.append(tmp)\n",
    "\n",
    "    return np.array(sums)"
   ]
  },
  {
   "cell_type": "code",
   "execution_count": 154,
   "id": "b1dabf07-3961-447b-b161-bf70bc2fa0ed",
   "metadata": {},
   "outputs": [],
   "source": [
    "def NMSImage(im, k=NMS_KERNEL_SIZE):\n",
    "    sums = []\n",
    "    new_image = []\n",
    "    \n",
    "    for i in range(0, im.shape[0], k):\n",
    "        tmp = []\n",
    "        for j in range(0, im.shape[1], k):\n",
    "            coord = NMSKernel(im, (i, j), k)\n",
    "            tmp.append(im[coord[0]][coord[1]])\n",
    "        new_image.append(tmp)\n",
    "        \n",
    "    return np.array(new_image)"
   ]
  },
  {
   "cell_type": "code",
   "execution_count": 155,
   "id": "749ec26d-3ea9-4fd2-b5fe-3b4ace4f1d4f",
   "metadata": {},
   "outputs": [
    {
     "name": "stdout",
     "output_type": "stream",
     "text": [
      "----------------------------------------\n",
      "processing month 1\n",
      "----------------------------------------\n",
      "no data exists for this record, skipping\n",
      "----------------------------------------\n",
      "processing month 2\n",
      "----------------------------------------\n",
      "no data exists for this record, skipping\n",
      "no data exists for this record, skipping\n",
      "total number of predicted coordinates: 69\n"
     ]
    }
   ],
   "source": [
    "true_values, predicted_values = GetPredictedTrueCoords(2016, range(1, 3))"
   ]
  },
  {
   "cell_type": "code",
   "execution_count": 156,
   "id": "fe72c57f-4b29-4ff8-9fec-b27551fc31fb",
   "metadata": {},
   "outputs": [
    {
     "name": "stdout",
     "output_type": "stream",
     "text": [
      "RMSE: 8.637213050247302\n"
     ]
    }
   ],
   "source": [
    "rmse = MultiPointRMSE(true_values, predicted_values)"
   ]
  },
  {
   "cell_type": "code",
   "execution_count": 158,
   "id": "d50f0c85-1b71-4a1f-9127-84554da81a7f",
   "metadata": {},
   "outputs": [],
   "source": [
    "t_nms = NMSImage(t)"
   ]
  },
  {
   "cell_type": "code",
   "execution_count": 159,
   "id": "af220774-8c8d-4d61-ad32-6cf3dca24d20",
   "metadata": {},
   "outputs": [
    {
     "data": {
      "text/plain": [
       "(128, 128)"
      ]
     },
     "execution_count": 159,
     "metadata": {},
     "output_type": "execute_result"
    }
   ],
   "source": [
    "t_nms.shape"
   ]
  },
  {
   "cell_type": "code",
   "execution_count": 160,
   "id": "c8a28a5e-6b69-436a-be09-43f62028a0e2",
   "metadata": {},
   "outputs": [
    {
     "data": {
      "text/plain": [
       "<matplotlib.image.AxesImage at 0x7f16aa8ee970>"
      ]
     },
     "execution_count": 160,
     "metadata": {},
     "output_type": "execute_result"
    },
    {
     "data": {
      "image/png": "[encoded data removed]",
      "text/plain": [
       "<Figure size 432x288 with 1 Axes>"
      ]
     },
     "metadata": {
      "needs_background": "light"
     },
     "output_type": "display_data"
    }
   ],
   "source": [
    "plt.imshow(t)"
   ]
  },
  {
   "cell_type": "code",
   "execution_count": 161,
   "id": "6b686cdf-82d4-4108-9fab-f4812198d648",
   "metadata": {},
   "outputs": [
    {
     "data": {
      "text/plain": [
       "<matplotlib.image.AxesImage at 0x7f16aa57b7c0>"
      ]
     },
     "execution_count": 161,
     "metadata": {},
     "output_type": "execute_result"
    },
    {
     "data": {
      "image/png": "[encoded data removed]",
      "text/plain": [
       "<Figure size 432x288 with 1 Axes>"
      ]
     },
     "metadata": {
      "needs_background": "light"
     },
     "output_type": "display_data"
    }
   ],
   "source": [
    "plt.imshow(t_nms)"
   ]
  },
  {
   "cell_type": "code",
   "execution_count": null,
   "id": "d77c7044-2e9a-4d5f-ad47-bda5b820ead2",
   "metadata": {},
   "outputs": [],
   "source": []
  }
 ],
 "metadata": {
  "kernelspec": {
   "display_name": "Python 3 (ipykernel)",
   "language": "python",
   "name": "python3"
  },
  "language_info": {
   "codemirror_mode": {
    "name": "ipython",
    "version": 3
   },
   "file_extension": ".py",
   "mimetype": "text/x-python",
   "name": "python",
   "nbconvert_exporter": "python",
   "pygments_lexer": "ipython3",
   "version": "3.9.13"
  }
 },
 "nbformat": 4,
 "nbformat_minor": 5
}
