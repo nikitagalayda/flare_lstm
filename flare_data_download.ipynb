{
 "cells": [
  {
   "cell_type": "code",
   "execution_count": 20,
   "id": "e2ce2bb9-cbd7-4110-b104-657f2d4b7081",
   "metadata": {},
   "outputs": [],
   "source": [
    "import numpy as np\n",
    "import pandas as pd\n",
    "from sunpy.net import attrs as a\n",
    "from sunpy.net import Fido\n",
    "\n",
    "import os\n",
    "import datetime"
   ]
  },
  {
   "cell_type": "code",
   "execution_count": 21,
   "id": "989444dd-7824-4f2c-afd9-7e758553765d",
   "metadata": {},
   "outputs": [],
   "source": [
    "FLARE_CSV_DIR = './all_flare_events_year/'"
   ]
  },
  {
   "cell_type": "code",
   "execution_count": 22,
   "id": "5ba32c98-8701-4e8e-bd66-2c1b554ebe42",
   "metadata": {},
   "outputs": [],
   "source": [
    "def query_goes_year(year):\n",
    "    print(year)\n",
    "    t_start = datetime.datetime(year=year, month=1, day=1)\n",
    "    t_end = datetime.datetime(year=year+1, month=1, day=1)\n",
    "    results = Fido.search(\n",
    "        a.Time(t_start, t_end),\n",
    "        a.hek.EventType(\"FL\"),\n",
    "    )\n",
    "    if not results.all_colnames: # no columns / no results\n",
    "        return None\n",
    "\n",
    "    event_table = results['hek'][\n",
    "        'event_starttime'\n",
    "        , 'event_endtime'\n",
    "        , 'fl_goescls'\n",
    "        , 'hpc_coord'\n",
    "        , 'hpc_bbox'\n",
    "        , 'hrc_coord'\n",
    "        , 'hrc_bbox'\n",
    "        , 'hgc_coord'\n",
    "        , 'hgc_bbox'\n",
    "        , 'event_coordsys'\n",
    "        , 'hgs_coord'\n",
    "        , 'hgs_bbox'\n",
    "        , 'event_peaktime'\n",
    "        , 'active'\n",
    "        , 'ar_noaaclass'\n",
    "        , 'ar_noaanum'\n",
    "        , 'boundbox_c1ur'\n",
    "        , 'boundbox_c2ur'\n",
    "        , 'boundbox_c1ll'\n",
    "        , 'boundbox_c2ll'\n",
    "        , 'hpc_y'\n",
    "        , 'hpc_x'\n",
    "        , 'hgs_y'\n",
    "        , 'hgs_x'\n",
    "        , 'hpc_radius'\n",
    "        , 'event_c2error'\n",
    "    ]\n",
    "    \n",
    "    return event_table"
   ]
  },
  {
   "cell_type": "code",
   "execution_count": 23,
   "id": "5cdec849-59bf-423a-9707-991916ec4797",
   "metadata": {},
   "outputs": [],
   "source": [
    "def goes_query_to_df(query):\n",
    "    event_df = query.to_pandas()\n",
    "\n",
    "    if len(event_df) == 0:\n",
    "        return None\n",
    "\n",
    "    return event_df"
   ]
  },
  {
   "cell_type": "code",
   "execution_count": 24,
   "id": "cb744134-eb13-4a60-a9fd-719e0e019146",
   "metadata": {},
   "outputs": [],
   "source": [
    "def goes_flares_to_csv(start_year, end_year):\n",
    "    if not os.path.exists(FLARE_CSV_DIR):\n",
    "        os.makedirs(FLARE_CSV_DIR)\n",
    "    \n",
    "    for year in range(start_year, end_year+1):\n",
    "        flares_table = query_goes_year(year)\n",
    "        flares_df = goes_query_to_df(flares_table)\n",
    "        flares_csv_path = os.path.join(FLARE_CSV_DIR, f'{str(year)}.csv') \n",
    "        flares_df.to_csv(flares_csv_path)"
   ]
  },
  {
   "cell_type": "code",
   "execution_count": 25,
   "id": "97fbf593-b483-4db5-8507-17d2fb44325e",
   "metadata": {},
   "outputs": [
    {
     "name": "stdout",
     "output_type": "stream",
     "text": [
      "2010\n",
      "2011\n",
      "2012\n",
      "2013\n",
      "2014\n",
      "2015\n",
      "2016\n",
      "2017\n",
      "2018\n",
      "2019\n"
     ]
    }
   ],
   "source": [
    "goes_flares_to_csv(2010, 2019)"
   ]
  }
 ],
 "metadata": {
  "kernelspec": {
   "display_name": "Python 3 (ipykernel)",
   "language": "python",
   "name": "python3"
  },
  "language_info": {
   "codemirror_mode": {
    "name": "ipython",
    "version": 3
   },
   "file_extension": ".py",
   "mimetype": "text/x-python",
   "name": "python",
   "nbconvert_exporter": "python",
   "pygments_lexer": "ipython3",
   "version": "3.9.13"
  }
 },
 "nbformat": 4,
 "nbformat_minor": 5
}
