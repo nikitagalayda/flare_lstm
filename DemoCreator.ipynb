{
 "cells": [
  {
   "cell_type": "code",
   "execution_count": 1,
   "id": "5c50284a-d5a7-4e3b-8e9d-b59d0f23a655",
   "metadata": {},
   "outputs": [],
   "source": [
    "import numpy as np\n",
    "import pandas as pd\n",
    "import matplotlib.pyplot as plt\n",
    "from sunpy.time import parse_time\n",
    "from sklearn import preprocessing\n",
    "\n",
    "from tensorflow import keras\n",
    "import tensorflow.keras.backend as K\n",
    "from tensorflow.keras.layers import *\n",
    "\n",
    "import os\n",
    "import shutil\n",
    "import datetime\n",
    "import sys\n",
    "from pathlib import Path\n",
    "from PIL import Image, ImageDraw, ImageEnhance, ImageFont\n",
    "from matplotlib import cm\n",
    "import cv2\n",
    "import imageio\n",
    "\n",
    "sys.path.append(os.path.join(Path.cwd(), 'utils'))\n",
    "sys.path.append(os.path.join(Path.cwd(), 'models'))\n",
    "\n",
    "from utils.region_detector import *\n",
    "from utils.im_utils import *\n",
    "from utils.data_augmentation import *\n",
    "from models.bidirectional_convlstm_model import *"
   ]
  },
  {
   "cell_type": "code",
   "execution_count": 2,
   "id": "ca3e7b09-d790-41cd-ab7c-ec12b2357fe0",
   "metadata": {},
   "outputs": [],
   "source": [
    "DATA_DIR = '../data'\n",
    "VIDEOS_DIR = './videos'\n",
    "FRAMES_DIR = './frames'\n",
    "FRAMES_MARKED_DIR = './frames/frames_marked'\n",
    "CUTOUT_FRAMES_MARKED = './frames/cutout_frames_marked/'\n",
    "LSTM_CHECKPOINTS_DIR = './checkpoints/lstm_checkpoints'\n",
    "os.environ[\"CUDA_VISIBLE_DEVICES\"]=\"1\""
   ]
  },
  {
   "cell_type": "code",
   "execution_count": 3,
   "id": "fcac2804-be07-4e1e-b4b0-08c74ce62c2c",
   "metadata": {},
   "outputs": [],
   "source": [
    "def delete_files(folder):\n",
    "    for filename in os.listdir(folder):\n",
    "        file_path = os.path.join(folder, filename)\n",
    "        try:\n",
    "            if os.path.isfile(file_path) or os.path.islink(file_path):\n",
    "                os.unlink(file_path)\n",
    "            elif os.path.isdir(file_path):\n",
    "                shutil.rmtree(file_path)\n",
    "        except Exception as e:\n",
    "            print('Failed to delete %s. Reason: %s' % (file_path, e))"
   ]
  },
  {
   "cell_type": "code",
   "execution_count": 4,
   "id": "e979bdab-d8d6-4ee0-9671-e8bb9fcf9f32",
   "metadata": {},
   "outputs": [],
   "source": [
    "# returns a formatted file name of the closest AIA data file to the given datetime\n",
    "\n",
    "def GetClosestDataFileByDate(dt):\n",
    "    AIA_data_date = f'{dt.year}{dt.month:02d}{dt.day:02d}'\n",
    "    tmp_dt = dt\n",
    "    minute = 0\n",
    "    minute=GetClosestMultiple(tmp_dt.minute, 6)\n",
    "    AIA_data_time = f'{tmp_dt.hour:02d}{minute:02d}'\n",
    "    AIA_data_filename = f'AIA{AIA_data_date}_{AIA_data_time}_0094.npz'\n",
    "    \n",
    "    return AIA_data_filename"
   ]
  },
  {
   "cell_type": "code",
   "execution_count": 5,
   "id": "dfe5b572-c694-4c36-8217-030fa8312ff6",
   "metadata": {},
   "outputs": [],
   "source": [
    "def GetAIAPathAtTime(dt):\n",
    "    dt_data_dir = os.path.join(DATA_DIR, f'{dt.year}/{dt.month:02d}/{dt.day:02d}')\n",
    "    closest_data_file = GetClosestDataFileByDate(dt)\n",
    "    file_path = os.path.join(dt_data_dir, closest_data_file)\n",
    "    if not os.path.exists(file_path):\n",
    "        raise FileNotFoundError\n",
    "    \n",
    "    return file_path"
   ]
  },
  {
   "cell_type": "code",
   "execution_count": 6,
   "id": "54a288b8-8e6b-4299-acc8-8dff089b2a14",
   "metadata": {},
   "outputs": [],
   "source": [
    "def GetFilepathsBetweenDates(start_datetime, end_datetime):\n",
    "    filepaths = []\n",
    "    loop_date = start_datetime\n",
    "    \n",
    "    while(loop_date < end_datetime):\n",
    "        closest_filepath = None\n",
    "        try:\n",
    "            closest_filepath = GetAIAPathAtTime(loop_date)\n",
    "        except(FileNotFoundError):\n",
    "            loop_date = loop_date + datetime.timedelta(minutes=6)\n",
    "            continue\n",
    "        filepaths.append(closest_filepath)\n",
    "        loop_date = loop_date + datetime.timedelta(minutes=6)\n",
    "    \n",
    "    return filepaths"
   ]
  },
  {
   "cell_type": "code",
   "execution_count": 7,
   "id": "8615c274-8bbe-4942-bd00-669665279fa5",
   "metadata": {},
   "outputs": [],
   "source": [
    "def key_func(x):\n",
    "    return int(x.split('.')[-2].split('/')[-1])"
   ]
  },
  {
   "cell_type": "code",
   "execution_count": 8,
   "id": "19d313ee-ecd2-404e-a152-ba259530431f",
   "metadata": {},
   "outputs": [],
   "source": [
    "def WriteImages(filepaths):\n",
    "    frames = [Image.fromarray(np.uint8(np.load(x)['x'])) for x in filepaths]\n",
    "    for i, frame in enumerate(frames):\n",
    "        frame.save(f'{FRAMES_DIR}/{i}.png')"
   ]
  },
  {
   "cell_type": "code",
   "execution_count": 9,
   "id": "96c4ed9c-e9a7-409a-927e-c40a6caba7a3",
   "metadata": {},
   "outputs": [],
   "source": [
    "def GetCleanAIAFilename(filename):\n",
    "    return filename.rsplit('/', 1)[-1].rsplit('.', 1)[0]"
   ]
  },
  {
   "cell_type": "code",
   "execution_count": 10,
   "id": "c6db6bac-8590-4420-9fcb-089ae86bd8d7",
   "metadata": {},
   "outputs": [],
   "source": [
    "def PosToClass(pos):\n",
    "    if pos == 0:\n",
    "        return 'N'\n",
    "    # elif pos == 1:\n",
    "    #     return 'N'\n",
    "    elif pos == 1:\n",
    "        return 'M'\n",
    "    elif pos == 2:\n",
    "        return 'X'"
   ]
  },
  {
   "cell_type": "code",
   "execution_count": 11,
   "id": "e866c1ea-ee6f-43c5-89b3-a144dec331af",
   "metadata": {},
   "outputs": [],
   "source": [
    "def GetImageCutouts(image, cutout_size=64, stride=32):\n",
    "    width, height = image.shape[0] , image.shape[1]\n",
    "    h_pass, v_pass = height//cutout_size, width//cutout_size\n",
    "    cutouts = []\n",
    "    for i in range(0, height-cutout_size, stride):\n",
    "        for j in range(0, width-cutout_size, stride):\n",
    "            cutouts.append(image[i:i+cutout_size, j:j+cutout_size])\n",
    "    \n",
    "    return np.array(cutouts)"
   ]
  },
  {
   "cell_type": "code",
   "execution_count": 12,
   "id": "fdf855b8-cb45-4882-8baf-260265fea0c9",
   "metadata": {},
   "outputs": [],
   "source": [
    "def WritePredictedCutouts(save_dir, filepaths, model, image_size=64, sequence_length=5):\n",
    "    delete_files(save_dir)\n",
    "    images_raw = [np.load(x)['x'] for x in filepaths]\n",
    "    images_raw_diff = [abs(images_raw[x]-images_raw[x-1]) for x in range(1, len(images_raw))]\n",
    "    \n",
    "    for i in range(232, len(images_raw_diff)):\n",
    "        print('--------------------------------------------------------------------------------------')\n",
    "        print(f'from: {GetCleanAIAFilename(filepaths[i-sequence_length])} to: {GetCleanAIAFilename(filepaths[i+1])}')\n",
    "        past_images = images_raw_diff[i-sequence_length:i]\n",
    "        past_images = np.array(past_images)\n",
    "        # shape = 5, 64, 64\n",
    "        past_images_cutouts = np.array([GetImageCutouts(x) for x in past_images])\n",
    "        # shape = 5, N, 64, 64\n",
    "        past_images_cutouts = np.array([past_images_cutouts[:, x] for x in range(past_images_cutouts.shape[1])])\n",
    "        # past_images_cutouts = np.reshape(past_images_cutouts, (past_images_cutouts.shape[1], past_images_cutouts.shape[0], past_images_cutouts.shape[2], past_images_cutouts.shape[3]))\n",
    "        print(past_images_cutouts.shape)\n",
    "        # shape = N, 5, 64, 64\n",
    "        predictions = []\n",
    "        for idx, c in enumerate(past_images_cutouts):\n",
    "            # print(f'predicting cutout {i}')\n",
    "            cutouts = np.expand_dims(c, 0)\n",
    "            cutouts = np.expand_dims(cutouts, 4)\n",
    "            # shape = 1, 5, 64, 64, 1\n",
    "            predictions.append(model.predict(cutouts, verbose=0))\n",
    "        predictions = np.array(predictions)\n",
    "        # print(predictions)\n",
    "        predicted_classes = np.array([x.argmax() for x in predictions])\n",
    "        flare_cutout_indeces = np.where(predicted_classes > 0)[0]\n",
    "        print(flare_cutout_indeces)\n",
    "        flare_center_coords = [(int(x/14)*32, int(x%14)*32) for x in flare_cutout_indeces]\n",
    "        \n",
    "        past_images_pil = [Image.fromarray(np.uint8(images_raw[i-x])).convert(\"RGBA\") for x in range(sequence_length)]\n",
    "        past_images_raw = [images_raw[i-x] for x in range(sequence_length)]\n",
    "        last_image_pil = past_images_pil[0]\n",
    "        print(flare_center_coords)\n",
    "        \n",
    "        for center_coord in flare_center_coords:\n",
    "            tl, br = (center_coord[1], center_coord[0]), (center_coord[1]+64, center_coord[0]+64)\n",
    "            print(f'{tl} {br}')\n",
    "            draw = ImageDraw.Draw(last_image_pil)\n",
    "            draw.rectangle((tl, br), outline=\"red\")\n",
    "            # draw.rectangle(((100, 100), (200, 200)), outline=\"red\")\n",
    "        # draw = ImageDraw.Draw(last_image_pil)\n",
    "        filename = filepaths[i].rsplit('/')[-1].rsplit('.', 1)[0]\n",
    "        # draw.text((12, 490),filename,(255,255,255))\n",
    "        # draw.text((400, 490),PosToClass(pos),(255,255,255))\n",
    "        last_image_pil.save(f'{save_dir}/{i}.png', \"PNG\")\n",
    "        \n",
    "#         for pc in predicted_classes:\n",
    "            "
   ]
  },
  {
   "cell_type": "code",
   "execution_count": 13,
   "id": "78189f99-2d0a-4b84-b470-3753b6689264",
   "metadata": {},
   "outputs": [],
   "source": [
    "def WritePredictedImages(save_dir, filepaths, model, image_size=64, sequence_length=5, threshold=0.9, rect_size=64):\n",
    "    delete_files(save_dir)\n",
    "    images_raw = [np.load(x)['x'] for x in filepaths]\n",
    "    images_raw_diff = [abs(images_raw[x]-images_raw[x-1]) for x in range(1, len(images_raw))]\n",
    "    images = [cv2.resize(x, (image_size, image_size), interpolation = cv2.INTER_AREA) for x in images_raw]\n",
    "    images_diff = [cv2.resize(x, (image_size, image_size), interpolation = cv2.INTER_AREA) for x in images_raw_diff]\n",
    "    for i in range(5, len(images_diff)):\n",
    "        print('--------------------------------------------------------------------------------------')\n",
    "        print(f'from: {GetCleanAIAFilename(filepaths[i-sequence_length])} to: {GetCleanAIAFilename(filepaths[i+1])}')\n",
    "        past_images = images_diff[i-sequence_length:i]\n",
    "        past_images = np.array(past_images)\n",
    "        past_images = np.expand_dims(past_images, 0)\n",
    "        past_images = np.expand_dims(past_images, 4)\n",
    "        # now the shape is 1, 12, 64, 64, 1 of full sun images\n",
    "        prediction = model.predict(past_images, verbose=0)\n",
    "        pos = prediction[0].argmax()\n",
    "        # print(f'{prediction} CLASS: {PosToClass(pos)}')\n",
    "        # print('--------------------------------------------------------------------------------------')\n",
    "        past_images_pil = [Image.fromarray(np.uint8(images_raw[i-x])).convert(\"RGBA\") for x in range(sequence_length)]\n",
    "        past_images_raw = [images_raw[i-x] for x in range(sequence_length)]\n",
    "        last_image_pil = past_images_pil[0]\n",
    "        print(prediction)\n",
    "        print(pos)\n",
    "        if pos > 0:\n",
    "        # if prediction > threshold:\n",
    "            last_image_raw = past_images_raw[0]\n",
    "            center_coord = GetImageTopNRegionsCoords(last_image_raw, 1)[0]\n",
    "            tl, br = (center_coord[1]-rect_size//2, center_coord[0]-rect_size//2), (center_coord[1]+rect_size//2, center_coord[0]+rect_size//2)\n",
    "            draw = ImageDraw.Draw(last_image_pil)\n",
    "            draw.rectangle((tl, br), outline=\"red\")\n",
    "        draw = ImageDraw.Draw(last_image_pil)\n",
    "        filename = filepaths[i].rsplit('/')[-1].rsplit('.', 1)[0]\n",
    "        draw.text((12, 490),filename,(255,255,255))\n",
    "        draw.text((400, 490),PosToClass(pos),(255,255,255))\n",
    "        last_image_pil.save(f'{save_dir}/{i}.png', \"PNG\")"
   ]
  },
  {
   "cell_type": "code",
   "execution_count": 14,
   "id": "6d2c824b-02d7-4dd0-95e5-e86bee9a573c",
   "metadata": {},
   "outputs": [],
   "source": [
    "def WriteVideo(frames_dir, video_name):\n",
    "    paths = []\n",
    "    for subdir, dirs, files in os.walk(frames_dir):\n",
    "        for f in files:\n",
    "            if f.rsplit('.', 1)[-1] == 'png':\n",
    "                paths.append(os.path.join(subdir, f))\n",
    "        break\n",
    "    paths = sorted(paths, key=key_func)\n",
    "    writer = imageio.get_writer(f'{VIDEOS_DIR}/{video_name}.mp4', fps=8)\n",
    "    for file in paths:\n",
    "        im = imageio.imread(file)\n",
    "        if im.shape != (512, 512, 4):\n",
    "            print(im.shape)\n",
    "            continue\n",
    "        writer.append_data(im)\n",
    "    writer.close()"
   ]
  },
  {
   "cell_type": "code",
   "execution_count": null,
   "id": "755c719e-9183-44d2-9831-406443ff916c",
   "metadata": {},
   "outputs": [
    {
     "name": "stderr",
     "output_type": "stream",
     "text": [
      "/tmp/ipykernel_36598/1067415504.py:11: DeprecationWarning: Starting with ImageIO v3 the behavior of this function will switch to that of iio.v3.imread. To keep the current behavior (and make this warning dissapear) use `import imageio.v2 as imageio` or call `imageio.v2.imread` directly.\n",
      "  im = imageio.imread(file)\n"
     ]
    }
   ],
   "source": [
    "batch_size, sequence_length, image_size, num_classes = 64, 6, 64, 3\n",
    "start_datetime, end_datetime = datetime.datetime(2016, 1, 1), datetime.datetime(2016, 1, 3)\n",
    "filepaths = GetFilepathsBetweenDates(start_datetime, end_datetime)\n",
    "model = tf.keras.models.load_model('./best_model.h5')\n",
    "# model = ConvLSTMModelAllClass(batch_size, image_size, sequence_length-1, num_classes)\n",
    "# model.load_weights(f'{LSTM_CHECKPOINTS_DIR}/full_image_duringflare_nmx_leftout2013_bidirectional_convlstm')\n",
    "WritePredictedImages(FRAMES_MARKED_DIR, filepaths, model, image_size=64, sequence_length=sequence_length-1, threshold=0.9, rect_size=64)\n",
    "# WritePredictedCutouts(CUTOUT_FRAMES_MARKED, filepaths, model, image_size=64, sequence_length=sequence_length-1)\n",
    "# video_title = f'full_image_{parse_time(start_datetime, precision=0).fits}~{parse_time(end_datetime, precision=0).fits}'\n",
    "video_title='full_image_2013_preflare'\n",
    "WriteVideo(FRAMES_MARKED_DIR, video_title)"
   ]
  },
  {
   "cell_type": "code",
   "execution_count": 307,
   "id": "bce4c106-6a0d-4ee8-b0e9-da7fd7ec0d0b",
   "metadata": {},
   "outputs": [
    {
     "name": "stdout",
     "output_type": "stream",
     "text": [
      "(None, 5, 64, 64, 1)\n",
      "WARNING:tensorflow:Detecting that an object or model or tf.train.Checkpoint is being deleted with unrestored values. See the following logs for the specific values in question. To silence these warnings, use `status.expect_partial()`. See https://www.tensorflow.org/api_docs/python/tf/train/Checkpoint#restorefor details about the status object returned by the restore function.\n",
      "WARNING:tensorflow:Value in checkpoint could not be found in the restored object: (root).optimizer.iter\n",
      "WARNING:tensorflow:Value in checkpoint could not be found in the restored object: (root).optimizer.beta_1\n",
      "WARNING:tensorflow:Value in checkpoint could not be found in the restored object: (root).optimizer.beta_2\n",
      "WARNING:tensorflow:Value in checkpoint could not be found in the restored object: (root).optimizer.decay\n",
      "WARNING:tensorflow:Value in checkpoint could not be found in the restored object: (root).optimizer.learning_rate\n",
      "WARNING:tensorflow:Value in checkpoint could not be found in the restored object: (root).optimizer's state 'm' for (root).layer_with_weights-1.kernel\n",
      "WARNING:tensorflow:Value in checkpoint could not be found in the restored object: (root).optimizer's state 'm' for (root).layer_with_weights-1.bias\n",
      "WARNING:tensorflow:Value in checkpoint could not be found in the restored object: (root).optimizer's state 'm' for (root).layer_with_weights-2.kernel\n",
      "WARNING:tensorflow:Value in checkpoint could not be found in the restored object: (root).optimizer's state 'm' for (root).layer_with_weights-2.bias\n",
      "WARNING:tensorflow:Value in checkpoint could not be found in the restored object: (root).optimizer's state 'm' for (root).layer_with_weights-0.layer_with_weights-1.gamma\n",
      "WARNING:tensorflow:Value in checkpoint could not be found in the restored object: (root).optimizer's state 'm' for (root).layer_with_weights-0.layer_with_weights-1.beta\n",
      "WARNING:tensorflow:Value in checkpoint could not be found in the restored object: (root).optimizer's state 'm' for (root).layer_with_weights-0.layer_with_weights-3.gamma\n",
      "WARNING:tensorflow:Value in checkpoint could not be found in the restored object: (root).optimizer's state 'm' for (root).layer_with_weights-0.layer_with_weights-3.beta\n",
      "WARNING:tensorflow:Value in checkpoint could not be found in the restored object: (root).optimizer's state 'm' for (root).layer_with_weights-0.layer_with_weights-0.forward_layer.cell.kernel\n",
      "WARNING:tensorflow:Value in checkpoint could not be found in the restored object: (root).optimizer's state 'm' for (root).layer_with_weights-0.layer_with_weights-0.forward_layer.cell.recurrent_kernel\n",
      "WARNING:tensorflow:Value in checkpoint could not be found in the restored object: (root).optimizer's state 'm' for (root).layer_with_weights-0.layer_with_weights-0.forward_layer.cell.bias\n",
      "WARNING:tensorflow:Value in checkpoint could not be found in the restored object: (root).optimizer's state 'm' for (root).layer_with_weights-0.layer_with_weights-0.backward_layer.cell.kernel\n",
      "WARNING:tensorflow:Value in checkpoint could not be found in the restored object: (root).optimizer's state 'm' for (root).layer_with_weights-0.layer_with_weights-0.backward_layer.cell.recurrent_kernel\n",
      "WARNING:tensorflow:Value in checkpoint could not be found in the restored object: (root).optimizer's state 'm' for (root).layer_with_weights-0.layer_with_weights-0.backward_layer.cell.bias\n",
      "WARNING:tensorflow:Value in checkpoint could not be found in the restored object: (root).optimizer's state 'm' for (root).layer_with_weights-0.layer_with_weights-2.forward_layer.cell.kernel\n",
      "WARNING:tensorflow:Value in checkpoint could not be found in the restored object: (root).optimizer's state 'm' for (root).layer_with_weights-0.layer_with_weights-2.forward_layer.cell.recurrent_kernel\n",
      "WARNING:tensorflow:Value in checkpoint could not be found in the restored object: (root).optimizer's state 'm' for (root).layer_with_weights-0.layer_with_weights-2.forward_layer.cell.bias\n",
      "WARNING:tensorflow:Value in checkpoint could not be found in the restored object: (root).optimizer's state 'm' for (root).layer_with_weights-0.layer_with_weights-2.backward_layer.cell.kernel\n",
      "WARNING:tensorflow:Value in checkpoint could not be found in the restored object: (root).optimizer's state 'm' for (root).layer_with_weights-0.layer_with_weights-2.backward_layer.cell.recurrent_kernel\n",
      "WARNING:tensorflow:Value in checkpoint could not be found in the restored object: (root).optimizer's state 'm' for (root).layer_with_weights-0.layer_with_weights-2.backward_layer.cell.bias\n",
      "WARNING:tensorflow:Value in checkpoint could not be found in the restored object: (root).optimizer's state 'm' for (root).layer_with_weights-0.layer_with_weights-4.forward_layer.cell.kernel\n",
      "WARNING:tensorflow:Value in checkpoint could not be found in the restored object: (root).optimizer's state 'm' for (root).layer_with_weights-0.layer_with_weights-4.forward_layer.cell.recurrent_kernel\n",
      "WARNING:tensorflow:Value in checkpoint could not be found in the restored object: (root).optimizer's state 'm' for (root).layer_with_weights-0.layer_with_weights-4.forward_layer.cell.bias\n",
      "WARNING:tensorflow:Value in checkpoint could not be found in the restored object: (root).optimizer's state 'm' for (root).layer_with_weights-0.layer_with_weights-4.backward_layer.cell.kernel\n",
      "WARNING:tensorflow:Value in checkpoint could not be found in the restored object: (root).optimizer's state 'm' for (root).layer_with_weights-0.layer_with_weights-4.backward_layer.cell.recurrent_kernel\n",
      "WARNING:tensorflow:Value in checkpoint could not be found in the restored object: (root).optimizer's state 'm' for (root).layer_with_weights-0.layer_with_weights-4.backward_layer.cell.bias\n",
      "WARNING:tensorflow:Value in checkpoint could not be found in the restored object: (root).optimizer's state 'v' for (root).layer_with_weights-1.kernel\n",
      "WARNING:tensorflow:Value in checkpoint could not be found in the restored object: (root).optimizer's state 'v' for (root).layer_with_weights-1.bias\n",
      "WARNING:tensorflow:Value in checkpoint could not be found in the restored object: (root).optimizer's state 'v' for (root).layer_with_weights-2.kernel\n",
      "WARNING:tensorflow:Value in checkpoint could not be found in the restored object: (root).optimizer's state 'v' for (root).layer_with_weights-2.bias\n",
      "WARNING:tensorflow:Value in checkpoint could not be found in the restored object: (root).optimizer's state 'v' for (root).layer_with_weights-0.layer_with_weights-1.gamma\n",
      "WARNING:tensorflow:Value in checkpoint could not be found in the restored object: (root).optimizer's state 'v' for (root).layer_with_weights-0.layer_with_weights-1.beta\n",
      "WARNING:tensorflow:Value in checkpoint could not be found in the restored object: (root).optimizer's state 'v' for (root).layer_with_weights-0.layer_with_weights-3.gamma\n",
      "WARNING:tensorflow:Value in checkpoint could not be found in the restored object: (root).optimizer's state 'v' for (root).layer_with_weights-0.layer_with_weights-3.beta\n",
      "WARNING:tensorflow:Value in checkpoint could not be found in the restored object: (root).optimizer's state 'v' for (root).layer_with_weights-0.layer_with_weights-0.forward_layer.cell.kernel\n",
      "WARNING:tensorflow:Value in checkpoint could not be found in the restored object: (root).optimizer's state 'v' for (root).layer_with_weights-0.layer_with_weights-0.forward_layer.cell.recurrent_kernel\n",
      "WARNING:tensorflow:Value in checkpoint could not be found in the restored object: (root).optimizer's state 'v' for (root).layer_with_weights-0.layer_with_weights-0.forward_layer.cell.bias\n",
      "WARNING:tensorflow:Value in checkpoint could not be found in the restored object: (root).optimizer's state 'v' for (root).layer_with_weights-0.layer_with_weights-0.backward_layer.cell.kernel\n",
      "WARNING:tensorflow:Value in checkpoint could not be found in the restored object: (root).optimizer's state 'v' for (root).layer_with_weights-0.layer_with_weights-0.backward_layer.cell.recurrent_kernel\n",
      "WARNING:tensorflow:Value in checkpoint could not be found in the restored object: (root).optimizer's state 'v' for (root).layer_with_weights-0.layer_with_weights-0.backward_layer.cell.bias\n",
      "WARNING:tensorflow:Value in checkpoint could not be found in the restored object: (root).optimizer's state 'v' for (root).layer_with_weights-0.layer_with_weights-2.forward_layer.cell.kernel\n",
      "WARNING:tensorflow:Value in checkpoint could not be found in the restored object: (root).optimizer's state 'v' for (root).layer_with_weights-0.layer_with_weights-2.forward_layer.cell.recurrent_kernel\n",
      "WARNING:tensorflow:Value in checkpoint could not be found in the restored object: (root).optimizer's state 'v' for (root).layer_with_weights-0.layer_with_weights-2.forward_layer.cell.bias\n",
      "WARNING:tensorflow:Value in checkpoint could not be found in the restored object: (root).optimizer's state 'v' for (root).layer_with_weights-0.layer_with_weights-2.backward_layer.cell.kernel\n",
      "WARNING:tensorflow:Value in checkpoint could not be found in the restored object: (root).optimizer's state 'v' for (root).layer_with_weights-0.layer_with_weights-2.backward_layer.cell.recurrent_kernel\n",
      "WARNING:tensorflow:Value in checkpoint could not be found in the restored object: (root).optimizer's state 'v' for (root).layer_with_weights-0.layer_with_weights-2.backward_layer.cell.bias\n",
      "WARNING:tensorflow:Value in checkpoint could not be found in the restored object: (root).optimizer's state 'v' for (root).layer_with_weights-0.layer_with_weights-4.forward_layer.cell.kernel\n",
      "WARNING:tensorflow:Value in checkpoint could not be found in the restored object: (root).optimizer's state 'v' for (root).layer_with_weights-0.layer_with_weights-4.forward_layer.cell.recurrent_kernel\n",
      "WARNING:tensorflow:Value in checkpoint could not be found in the restored object: (root).optimizer's state 'v' for (root).layer_with_weights-0.layer_with_weights-4.forward_layer.cell.bias\n",
      "WARNING:tensorflow:Value in checkpoint could not be found in the restored object: (root).optimizer's state 'v' for (root).layer_with_weights-0.layer_with_weights-4.backward_layer.cell.kernel\n",
      "WARNING:tensorflow:Value in checkpoint could not be found in the restored object: (root).optimizer's state 'v' for (root).layer_with_weights-0.layer_with_weights-4.backward_layer.cell.recurrent_kernel\n",
      "WARNING:tensorflow:Value in checkpoint could not be found in the restored object: (root).optimizer's state 'v' for (root).layer_with_weights-0.layer_with_weights-4.backward_layer.cell.bias\n"
     ]
    },
    {
     "name": "stderr",
     "output_type": "stream",
     "text": [
      "/tmp/ipykernel_19415/2494019916.py:10: DeprecationWarning: Starting with ImageIO v3 the behavior of this function will switch to that of iio.v3.imread. To keep the current behavior (and make this warning dissapear) use `import imageio.v2 as imageio` or call `imageio.v2.imread` directly.\n",
      "  im = imageio.imread(file)\n"
     ]
    }
   ],
   "source": [
    "model = ConvLSTMModelAllClass(batch_size, image_size, sequence_length)\n",
    "model.load_weights(f'{LSTM_CHECKPOINTS_DIR}/cutout_image_duringflare_bidirectional_convlstm')\n",
    "# c = WritePredictedCutouts(CUTOUT_FRAMES_MARKED, filepaths, model, image_size=64, sequence_length=5)\n",
    "video_title = f'full_image_{parse_time(start_datetime, precision=0).fits}~{parse_time(end_datetime, precision=0).fits}'\n",
    "WriteVideo(CUTOUT_FRAMES_MARKED, video_title)"
   ]
  },
  {
   "cell_type": "code",
   "execution_count": 22,
   "id": "3bb70c4f-26af-4552-a18d-a5d529b5c66b",
   "metadata": {},
   "outputs": [],
   "source": [
    "def CreateAIAVideo(start_datetime, end_datetime):\n",
    "    # filepaths = GetFilepathsBetweenDates(start_datetime, end_datetime)\n",
    "    # WriteImages(filepaths)\n",
    "    WriteVideo(FRAMES_DIR)"
   ]
  },
  {
   "cell_type": "code",
   "execution_count": null,
   "id": "58ab4517-f907-4e47-9c30-4640e2714f8e",
   "metadata": {},
   "outputs": [],
   "source": [
    "def DrawRectangle(img, top_left, bottom_right, save_dir):\n",
    "    result = img.copy()\n",
    "    result = cv2.rectangle(result, coord1, coord2, color=(0, 0, 255), thickness=3)\n",
    "    cv2.imwrite(save_dir, result)"
   ]
  },
  {
   "cell_type": "code",
   "execution_count": null,
   "id": "45e12638-8e56-4461-b066-8bc4ea7b9917",
   "metadata": {},
   "outputs": [],
   "source": [
    "def CreateAIAVideoPrediction(start_datetime, end_datetime, model):\n",
    "    filepaths = GetFilepathsBetweenDates(start_datetime, end_datetime)\n",
    "    return WritePredictedImages(filepaths, model)"
   ]
  },
  {
   "cell_type": "code",
   "execution_count": null,
   "id": "541a660e-f452-4442-bca7-46e8bec67e2b",
   "metadata": {},
   "outputs": [],
   "source": [
    "start_datetime, end_datetime = datetime.datetime(2016, 1, 1), datetime.datetime(2016, 1, 3)\n",
    "model = ConvLSTMModel(64)\n",
    "model.load_weights(f'{LSTM_CHECKPOINTS_DIR}/conv_lstm_trial_5')\n",
    "# end_model = ConvLSTMModel(64)\n",
    "# end_model.load_weights(f'{LSTM_CHECKPOINTS_DIR}/conv_lstm_trial_end_full')\n",
    "delete_files(FRAMES_MARKED_DIR)\n",
    "CreateAIAVideoPrediction(start_datetime, end_datetime, model)\n",
    "WriteVideo(FRAMES_MARKED_DIR)"
   ]
  }
 ],
 "metadata": {
  "kernelspec": {
   "display_name": "Python 3 (ipykernel)",
   "language": "python",
   "name": "python3"
  },
  "language_info": {
   "codemirror_mode": {
    "name": "ipython",
    "version": 3
   },
   "file_extension": ".py",
   "mimetype": "text/x-python",
   "name": "python",
   "nbconvert_exporter": "python",
   "pygments_lexer": "ipython3",
   "version": "3.9.13"
  }
 },
 "nbformat": 4,
 "nbformat_minor": 5
}
