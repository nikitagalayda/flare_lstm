{
 "cells": [
  {
   "cell_type": "code",
   "execution_count": 28,
   "id": "5c50284a-d5a7-4e3b-8e9d-b59d0f23a655",
   "metadata": {},
   "outputs": [],
   "source": [
    "import numpy as np\n",
    "import pandas as pd\n",
    "import matplotlib.pyplot as plt\n",
    "from sunpy.time import parse_time\n",
    "from sklearn import preprocessing\n",
    "\n",
    "from tensorflow import keras\n",
    "import tensorflow.keras.backend as K\n",
    "from tensorflow.keras.layers import *\n",
    "\n",
    "import os\n",
    "import shutil\n",
    "import datetime\n",
    "import sys\n",
    "from pathlib import Path\n",
    "from PIL import Image\n",
    "from matplotlib import cm\n",
    "import cv2\n",
    "\n",
    "sys.path.append(os.path.join(Path.cwd(), 'utils'))\n",
    "from utils.resnet_model import *\n",
    "from utils.lstm_model import *\n",
    "from utils.region_detector import *\n",
    "from utils.im_utils import *\n",
    "from utils.data_augmentation import *\n",
    "\n",
    "# from IPython.display import Video"
   ]
  },
  {
   "cell_type": "code",
   "execution_count": 29,
   "id": "ca3e7b09-d790-41cd-ab7c-ec12b2357fe0",
   "metadata": {},
   "outputs": [],
   "source": [
    "DATA_DIR = '../data'\n",
    "VIDEOS_DIR = './videos'\n",
    "FRAMES_DIR = './frames'"
   ]
  },
  {
   "cell_type": "code",
   "execution_count": 30,
   "id": "e979bdab-d8d6-4ee0-9671-e8bb9fcf9f32",
   "metadata": {},
   "outputs": [],
   "source": [
    "# returns a formatted file name of the closest AIA data file to the given datetime\n",
    "\n",
    "def GetClosestDataFileByDate(dt):\n",
    "    AIA_data_date = f'{dt.year}{dt.month:02d}{dt.day:02d}'\n",
    "    tmp_dt = dt\n",
    "    minute = 0\n",
    "    minute=GetClosestMultiple(tmp_dt.minute, 6)\n",
    "    AIA_data_time = f'{tmp_dt.hour:02d}{minute:02d}'\n",
    "    AIA_data_filename = f'AIA{AIA_data_date}_{AIA_data_time}_0094.npz'\n",
    "    \n",
    "    return AIA_data_filename"
   ]
  },
  {
   "cell_type": "code",
   "execution_count": 31,
   "id": "dfe5b572-c694-4c36-8217-030fa8312ff6",
   "metadata": {},
   "outputs": [],
   "source": [
    "def GetAIAPathAtTime(dt):\n",
    "    dt_data_dir = os.path.join(DATA_DIR, f'{dt.year}/{dt.month:02d}/{dt.day:02d}')\n",
    "    closest_data_file = GetClosestDataFileByDate(dt)\n",
    "    file_path = os.path.join(dt_data_dir, closest_data_file)\n",
    "    if not os.path.exists(file_path):\n",
    "        raise FileNotFoundError\n",
    "    \n",
    "    return file_path"
   ]
  },
  {
   "cell_type": "code",
   "execution_count": 32,
   "id": "54a288b8-8e6b-4299-acc8-8dff089b2a14",
   "metadata": {},
   "outputs": [],
   "source": [
    "def GetFilepathsBetweenDates(start_datetime, end_datetime):\n",
    "    filepaths = []\n",
    "    loop_date = start_datetime\n",
    "    \n",
    "    while(loop_date < end_datetime):\n",
    "        closest_filepath = None\n",
    "        try:\n",
    "            closest_filepath = GetAIAPathAtTime(loop_date)\n",
    "        except(FileNotFoundError):\n",
    "            loop_date = loop_date + datetime.timedelta(minutes=6)\n",
    "            continue\n",
    "        filepaths.append(closest_filepath)\n",
    "        loop_date = loop_date + datetime.timedelta(minutes=6)\n",
    "    \n",
    "    return filepaths"
   ]
  },
  {
   "cell_type": "code",
   "execution_count": 117,
   "id": "8615c274-8bbe-4942-bd00-669665279fa5",
   "metadata": {},
   "outputs": [],
   "source": [
    "def key_func(x):\n",
    "    return int(x.split('.')[-2].split('/')[-1])"
   ]
  },
  {
   "cell_type": "code",
   "execution_count": 130,
   "id": "19d313ee-ecd2-404e-a152-ba259530431f",
   "metadata": {},
   "outputs": [],
   "source": [
    "def WriteImages(filepaths):\n",
    "    frames = [Image.fromarray(np.uint8(np.load(x)['x'])) for x in filepaths]\n",
    "    for i, frame in enumerate(frames):\n",
    "        frame.save(f'{FRAMES_DIR}/{i}.png')"
   ]
  },
  {
   "cell_type": "code",
   "execution_count": 131,
   "id": "6d2c824b-02d7-4dd0-95e5-e86bee9a573c",
   "metadata": {},
   "outputs": [],
   "source": [
    "def WriteVideo():\n",
    "    paths = []\n",
    "    for subdir, dirs, files in os.walk(FRAMES_DIR):\n",
    "        for f in files:\n",
    "            if f.rsplit('.', 1)[-1] == 'png':\n",
    "                paths.append(os.path.join(subdir, f))\n",
    "    paths = sorted(paths, key=key_func)\n",
    "    writer = imageio.get_writer('test.mp4', fps=20)\n",
    "    for file in paths:\n",
    "        im = imageio.imread(file)\n",
    "        if im.shape != (512, 512):\n",
    "            continue\n",
    "        writer.append_data(im)\n",
    "    writer.close()"
   ]
  },
  {
   "cell_type": "code",
   "execution_count": 133,
   "id": "3bb70c4f-26af-4552-a18d-a5d529b5c66b",
   "metadata": {},
   "outputs": [],
   "source": [
    "def CreateAIAVideo(start_datetime, end_datetime):\n",
    "    # filepaths = GetFilepathsBetweenDates(start_datetime, end_datetime)\n",
    "    # WriteImages(filepaths)\n",
    "    WriteVideo()"
   ]
  },
  {
   "cell_type": "code",
   "execution_count": 134,
   "id": "541a660e-f452-4442-bca7-46e8bec67e2b",
   "metadata": {},
   "outputs": [
    {
     "name": "stderr",
     "output_type": "stream",
     "text": [
      "/tmp/ipykernel_11418/3800334522.py:10: DeprecationWarning: Starting with ImageIO v3 the behavior of this function will switch to that of iio.v3.imread. To keep the current behavior (and make this warning dissapear) use `import imageio.v2 as imageio` or call `imageio.v2.imread` directly.\n",
      "  im = imageio.imread(file)\n"
     ]
    }
   ],
   "source": [
    "start_datetime, end_datetime = datetime.datetime(2016, 1, 1), datetime.datetime(2016, 1, 3)\n",
    "CreateAIAVideo(start_datetime, end_datetime)"
   ]
  },
  {
   "cell_type": "code",
   "execution_count": null,
   "id": "c4295ce5-512e-419c-b9f7-50faa6af1e35",
   "metadata": {},
   "outputs": [],
   "source": []
  }
 ],
 "metadata": {
  "kernelspec": {
   "display_name": "Python 3 (ipykernel)",
   "language": "python",
   "name": "python3"
  },
  "language_info": {
   "codemirror_mode": {
    "name": "ipython",
    "version": 3
   },
   "file_extension": ".py",
   "mimetype": "text/x-python",
   "name": "python",
   "nbconvert_exporter": "python",
   "pygments_lexer": "ipython3",
   "version": "3.9.13"
  }
 },
 "nbformat": 4,
 "nbformat_minor": 5
}
