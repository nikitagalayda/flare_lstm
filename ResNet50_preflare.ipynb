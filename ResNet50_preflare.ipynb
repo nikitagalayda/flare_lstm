{
 "cells": [
  {
   "cell_type": "code",
   "execution_count": 1,
   "id": "9dae5123-2010-47f4-b44c-a7e7de0b4790",
   "metadata": {},
   "outputs": [],
   "source": [
    "import numpy as np\n",
    "from numpy import float32\n",
    "import warnings\n",
    "import os\n",
    "import sys\n",
    "import glob\n",
    "import tensorflow as tf\n",
    "import cv2\n",
    "from sklearn import utils\n",
    "from sklearn import preprocessing\n",
    "import matplotlib.pyplot as plt\n",
    "import Augmentor\n",
    "from pathlib import Path\n",
    "\n",
    "import tensorflow.keras.backend as K\n",
    "from tensorflow.keras.applications import *\n",
    "from tensorflow.keras.layers import *\n",
    "from tensorflow.keras.models import *\n",
    "from tensorflow.keras.preprocessing import *\n",
    "from tensorflow.keras.utils import *\n",
    "from tensorflow.keras import layers\n",
    "from tensorflow.keras.optimizers import Adam\n",
    "\n",
    "sys.path.append(os.path.join(Path.cwd(), 'utils'))\n",
    "\n",
    "from utils.im_utils import *\n",
    "from utils.resnet_model import *\n",
    "from utils.simple_conv_model import *"
   ]
  },
  {
   "cell_type": "code",
   "execution_count": 2,
   "id": "4536e209-ac28-4772-860d-7188b3baaede",
   "metadata": {},
   "outputs": [],
   "source": [
    "os.environ[\"CUDA_VISIBLE_DEVICES\"]=\"1\""
   ]
  },
  {
   "cell_type": "code",
   "execution_count": 3,
   "id": "da7f8eaf-4c5e-4958-a533-b2ea475cd9a6",
   "metadata": {},
   "outputs": [],
   "source": [
    "FLARE_CLASS = 'B'\n",
    "\n",
    "TRAIN_DATA_DIR = f'./data/{FLARE_CLASS}_data/train'\n",
    "VAL_DATA_DIR = f'./data/{FLARE_CLASS}_data/val'\n",
    "TEST_DATA_DIR = f'./data/{FLARE_CLASS}_data/test'\n",
    "\n",
    "AUG_TRAIN_DATA_DIR = f'./data/{FLARE_CLASS}_data_augmented/train'\n",
    "AUG_VAL_DATA_DIR = f'./data/{FLARE_CLASS}_data_augmented/val'\n",
    "AUG_TEST_DATA_DIR = f'./data/{FLARE_CLASS}_data_augmented/test'\n",
    "\n",
    "RESNET_CHECKPOINTS_DIR = './checkpoints/resnet_checkpoints'"
   ]
  },
  {
   "cell_type": "code",
   "execution_count": 4,
   "id": "d0159f28-d7ff-4a2b-8c68-d9523b0097cb",
   "metadata": {},
   "outputs": [],
   "source": [
    "def delete_files(folder):\n",
    "    for filename in os.listdir(folder):\n",
    "        file_path = os.path.join(folder, filename)\n",
    "        try:\n",
    "            if os.path.isfile(file_path) or os.path.islink(file_path):\n",
    "                os.unlink(file_path)\n",
    "            elif os.path.isdir(file_path):\n",
    "                shutil.rmtree(file_path)\n",
    "        except Exception as e:\n",
    "            print('Failed to delete %s. Reason: %s' % (file_path, e))"
   ]
  },
  {
   "cell_type": "code",
   "execution_count": 5,
   "id": "5c998e73-948d-471b-9f49-2fbeed37e27d",
   "metadata": {},
   "outputs": [],
   "source": [
    "def augment_train_data():\n",
    "    delete_files(f'{AUG_TRAIN_DATA_DIR}/positive')\n",
    "    delete_files(f'{AUG_TRAIN_DATA_DIR}/negative')\n",
    "    \n",
    "    for subdir, dirs, files in os.walk(TRAIN_DATA_DIR):\n",
    "        for file in files:\n",
    "            filepath = os.path.join(subdir, file)\n",
    "            img = np.load(filepath)\n",
    "            # rotated_imgs = [rotate_img(img, 90), rotate_img(img, 180), rotate_img(img, 270)]\n",
    "            # for idx, rot_img in enumerate(rotated_imgs):\n",
    "            #     rotated_img_save = os.path.join(subdir, f'{file}_{idx}_rot')\n",
    "            #     np.save(rotated_img_save, rot_img)\n",
    "\n",
    "            fliplr_img = np.fliplr(img)\n",
    "            flipud_img = np.flipud(img)\n",
    "            rot90_img = np.rot90(img)\n",
    "            rot180_img = np.rot90(img, 2)\n",
    "            rot270_img = np.rot90(img, 3)\n",
    "            \n",
    "            folder = subdir.rsplit('/', 1)[1]\n",
    "            cut_filename = file.rsplit('.', 1)[0]\n",
    "\n",
    "            original_img_save = os.path.join(f'{AUG_TRAIN_DATA_DIR}/{folder}', cut_filename)\n",
    "            fliplr_img_save = os.path.join(f'{AUG_TRAIN_DATA_DIR}/{folder}', f'{cut_filename}_fliplr')\n",
    "            flipud_img_save = os.path.join(f'{AUG_TRAIN_DATA_DIR}/{folder}', f'{cut_filename}_flipud')\n",
    "            rot90_img_save = os.path.join(f'{AUG_TRAIN_DATA_DIR}/{folder}', f'{cut_filename}_rot90')\n",
    "            rot180_img_save = os.path.join(f'{AUG_TRAIN_DATA_DIR}/{folder}', f'{cut_filename}_rot180')\n",
    "            rot270_img_save = os.path.join(f'{AUG_TRAIN_DATA_DIR}/{folder}', f'{cut_filename}_rot270')\n",
    "\n",
    "            np.save(original_img_save, img)\n",
    "            np.save(fliplr_img_save, fliplr_img)\n",
    "            np.save(flipud_img_save, flipud_img)\n",
    "            np.save(rot90_img_save, rot90_img)\n",
    "            np.save(rot180_img_save, rot180_img)\n",
    "            np.save(rot270_img_save, rot270_img)\n",
    "\n",
    "            # translated_img = translate(img)\n",
    "            # translated_img_save = os.path.join(subdir, f'{file}_trans')\n",
    "            # np.save(translated_img_save, translated_img)"
   ]
  },
  {
   "cell_type": "code",
   "execution_count": 6,
   "id": "012799a2-6a76-472d-b131-d87d9c6e4fc0",
   "metadata": {},
   "outputs": [],
   "source": [
    "# augment_train_data()"
   ]
  },
  {
   "cell_type": "code",
   "execution_count": 7,
   "id": "46d3de72-ac1d-4d80-8324-4c24520ab76d",
   "metadata": {},
   "outputs": [],
   "source": [
    "class CustomDataGen(tf.keras.utils.Sequence):\n",
    "    \n",
    "    def __init__(self, files_paths,\n",
    "                 batch_size,\n",
    "                 input_size=(128, 128, 1),\n",
    "                 shuffle=True):\n",
    "        \n",
    "        self.files_paths = files_paths.copy()\n",
    "        self.batch_size = batch_size\n",
    "        self.input_size = input_size\n",
    "        self.shuffle = shuffle\n",
    "        \n",
    "        self.n = len(self.files_paths)\n",
    "        self.n_category = 2\n",
    "        # self.n_name = df[y_col['name']].nunique()\n",
    "        # self.n_type = df[y_col['type']].nunique()\n",
    "    \n",
    "    def on_epoch_end(self):\n",
    "        if self.shuffle:\n",
    "            np.random.shuffle(self.files_paths)\n",
    "    \n",
    "    def __getitem__(self, index):\n",
    "        batches = self.files_paths[index * self.batch_size:(index + 1) * self.batch_size]\n",
    "        X, y = self.__get_data(batches)        \n",
    "        return X, y\n",
    "    \n",
    "    def __len__(self):\n",
    "        return self.n // self.batch_size\n",
    "    \n",
    "    def __get_input(self, path):\n",
    "        # image = preprocessing.normalize(np.load(path))\n",
    "        image = np.load(path)\n",
    "        # image = NormalizeData(image)\n",
    "        # image = cv2.resize(image, (128, 128), interpolation = cv2.INTER_AREA)\n",
    "        # image = preprocessing.normalize(image)\n",
    "        return image\n",
    "\n",
    "    def __get_output(self, path, num_classes=2):\n",
    "        label = None\n",
    "        folder = path.rsplit('/')[-2]\n",
    "        if folder == 'positive':\n",
    "            label = 1\n",
    "        elif folder == 'negative':\n",
    "            label = 0\n",
    "        \n",
    "        return label\n",
    "        # return tf.keras.utils.to_categorical(label, num_classes=num_classes)\n",
    "    \n",
    "    def __get_data(self, batches):\n",
    "        # Generates data containing batch_size samples\n",
    "        # path_batch = batches[self.X_col['path']]\n",
    "        # category_batch = batches[self.y_col['type']]\n",
    "\n",
    "        X_batch = np.asarray([self.__get_input(x) for x in batches])\n",
    "        y_batch = np.asarray([self.__get_output(y, self.n_category) for y in batches])\n",
    "\n",
    "        return X_batch, y_batch"
   ]
  },
  {
   "cell_type": "code",
   "execution_count": 8,
   "id": "57df7307-f1fa-44db-b3be-19567b1eb908",
   "metadata": {},
   "outputs": [],
   "source": [
    "train_files = []\n",
    "for subdir, dirs, files in os.walk(AUG_TRAIN_DATA_DIR):\n",
    "     for f in files:\n",
    "        train_files.append(os.path.join(subdir, f))\n",
    "train_files = np.array(train_files)\n",
    "\n",
    "val_files = []\n",
    "for subdir, dirs, files in os.walk(AUG_VAL_DATA_DIR):\n",
    "     for f in files:\n",
    "        val_files.append(os.path.join(subdir, f))\n",
    "val_files = np.array(val_files)\n",
    "\n",
    "test_files = []\n",
    "for subdir, dirs, files in os.walk(AUG_TEST_DATA_DIR):\n",
    "     for f in files:\n",
    "        test_files.append(os.path.join(subdir, f))\n",
    "test_files = np.array(test_files)"
   ]
  },
  {
   "cell_type": "code",
   "execution_count": 9,
   "id": "30188f5b-cfd0-41c7-865f-dfba43bcfd3e",
   "metadata": {},
   "outputs": [],
   "source": [
    "def get_test_conv_model():\n",
    "    inp = Input(shape=(64, 64, 1))\n",
    "    x = Conv2D(filters=48, kernel_size=4)(inp)\n",
    "    x = MaxPooling2D(pool_size=(3, 3))(x)\n",
    "    x = Conv2D(filters=24, kernel_size=3)(x)\n",
    "    x = MaxPooling2D(pool_size=(3, 3))(x)\n",
    "    x = Conv2D(filters=12, kernel_size=3)(x)\n",
    "    x = MaxPooling2D(pool_size=(3, 3))(x)\n",
    "    x = Flatten()(x)\n",
    "    x = Dense(128, activation='relu')(x)\n",
    "    x = Dense(1, activation='sigmoid')(x)\n",
    "    \n",
    "    model = Model(inp, x)\n",
    "    adam_fine = Adam(learning_rate=1, beta_1=0.9, beta_2=0.999, decay=0.0002, amsgrad=False)\n",
    "    lr_schedule = tf.keras.optimizers.schedules.ExponentialDecay(\n",
    "    initial_learning_rate=1e-3,\n",
    "    decay_steps=10000,\n",
    "    decay_rate=0.9)\n",
    "    optimizer = tf.keras.optimizers.SGD(learning_rate=lr_schedule)\n",
    "    model.compile(\n",
    "        loss=\"binary_crossentropy\", optimizer='adam', metrics=[\"accuracy\"]\n",
    "    )\n",
    "    \n",
    "    return model"
   ]
  },
  {
   "cell_type": "code",
   "execution_count": 10,
   "id": "0ed9d87f-7d7f-4dc7-8519-f76b5f99c11c",
   "metadata": {},
   "outputs": [],
   "source": [
    "batch_size = 512\n",
    "epochs=30\n",
    "traingen = CustomDataGen(train_files, batch_size)\n",
    "valgen = CustomDataGen(val_files, batch_size)"
   ]
  },
  {
   "cell_type": "code",
   "execution_count": 11,
   "id": "a59b503a-2842-4ed4-9554-f7f90d47c2ba",
   "metadata": {},
   "outputs": [
    {
     "name": "stderr",
     "output_type": "stream",
     "text": [
      "2022-08-01 22:05:07.910283: I tensorflow/core/platform/cpu_feature_guard.cc:193] This TensorFlow binary is optimized with oneAPI Deep Neural Network Library (oneDNN) to use the following CPU instructions in performance-critical operations:  AVX2 FMA\n",
      "To enable them in other operations, rebuild TensorFlow with the appropriate compiler flags.\n",
      "2022-08-01 22:05:08.500449: I tensorflow/core/common_runtime/gpu/gpu_device.cc:1532] Created device /job:localhost/replica:0/task:0/device:GPU:0 with 6656 MB memory:  -> device: 0, name: GeForce RTX 2080, pci bus id: 0000:82:00.0, compute capability: 7.5\n"
     ]
    },
    {
     "name": "stdout",
     "output_type": "stream",
     "text": [
      "Epoch 1/30\n"
     ]
    },
    {
     "name": "stderr",
     "output_type": "stream",
     "text": [
      "2022-08-01 22:05:10.523672: I tensorflow/stream_executor/cuda/cuda_dnn.cc:384] Loaded cuDNN version 8100\n",
      "2022-08-01 22:05:11.086724: I tensorflow/core/platform/default/subprocess.cc:304] Start cannot spawn child process: No such file or directory\n",
      "2022-08-01 22:05:11.091129: W tensorflow/stream_executor/gpu/asm_compiler.cc:111] *** WARNING *** You are using ptxas 10.0.145, which is older than 11.1. ptxas before 11.1 is known to miscompile XLA code, leading to incorrect results or invalid-address errors.\n",
      "\n",
      "You may not need to update to CUDA 11.1; cherry-picking the ptxas binary is often sufficient.\n"
     ]
    },
    {
     "name": "stdout",
     "output_type": "stream",
     "text": [
      "28/28 [==============================] - 11s 283ms/step - loss: 3.0230 - accuracy: 0.5337\n",
      "Epoch 2/30\n",
      "28/28 [==============================] - 8s 287ms/step - loss: 0.6942 - accuracy: 0.6720\n",
      "Epoch 3/30\n",
      "28/28 [==============================] - 8s 292ms/step - loss: 0.6130 - accuracy: 0.7179\n",
      "Epoch 4/30\n",
      "28/28 [==============================] - 8s 287ms/step - loss: 0.5883 - accuracy: 0.7292\n",
      "Epoch 5/30\n",
      "28/28 [==============================] - 8s 288ms/step - loss: 0.5759 - accuracy: 0.7355\n",
      "Epoch 6/30\n",
      "28/28 [==============================] - 8s 289ms/step - loss: 0.5682 - accuracy: 0.7383\n",
      "Epoch 7/30\n",
      "28/28 [==============================] - 8s 279ms/step - loss: 0.5625 - accuracy: 0.7418\n",
      "Epoch 8/30\n",
      "28/28 [==============================] - 8s 277ms/step - loss: 0.5579 - accuracy: 0.7438\n",
      "Epoch 9/30\n",
      "28/28 [==============================] - 8s 285ms/step - loss: 0.5530 - accuracy: 0.7458\n",
      "Epoch 10/30\n",
      "28/28 [==============================] - 8s 295ms/step - loss: 0.5485 - accuracy: 0.7470\n",
      "Epoch 11/30\n",
      "28/28 [==============================] - 8s 287ms/step - loss: 0.5444 - accuracy: 0.7500\n",
      "Epoch 12/30\n",
      "28/28 [==============================] - 8s 275ms/step - loss: 0.5405 - accuracy: 0.7509\n",
      "Epoch 13/30\n",
      "28/28 [==============================] - 8s 281ms/step - loss: 0.5381 - accuracy: 0.7510\n",
      "Epoch 14/30\n",
      "28/28 [==============================] - 8s 286ms/step - loss: 0.5362 - accuracy: 0.7507\n",
      "Epoch 15/30\n",
      "28/28 [==============================] - 8s 279ms/step - loss: 0.5342 - accuracy: 0.7543\n",
      "Epoch 16/30\n",
      "28/28 [==============================] - 8s 281ms/step - loss: 0.5325 - accuracy: 0.7510\n",
      "Epoch 17/30\n",
      "28/28 [==============================] - 8s 274ms/step - loss: 0.5268 - accuracy: 0.7550\n",
      "Epoch 18/30\n",
      "28/28 [==============================] - 8s 285ms/step - loss: 0.5250 - accuracy: 0.7564\n",
      "Epoch 19/30\n",
      "28/28 [==============================] - 8s 296ms/step - loss: 0.5217 - accuracy: 0.7564\n",
      "Epoch 20/30\n",
      "28/28 [==============================] - 8s 280ms/step - loss: 0.5210 - accuracy: 0.7564\n",
      "Epoch 21/30\n",
      "28/28 [==============================] - 8s 278ms/step - loss: 0.5175 - accuracy: 0.7589\n",
      "Epoch 22/30\n",
      "28/28 [==============================] - 8s 293ms/step - loss: 0.5193 - accuracy: 0.7575\n",
      "Epoch 23/30\n",
      "28/28 [==============================] - 8s 286ms/step - loss: 0.5145 - accuracy: 0.7585\n",
      "Epoch 24/30\n",
      "28/28 [==============================] - 8s 286ms/step - loss: 0.5119 - accuracy: 0.7604\n",
      "Epoch 25/30\n",
      "28/28 [==============================] - 8s 282ms/step - loss: 0.5129 - accuracy: 0.7598\n",
      "Epoch 26/30\n",
      "28/28 [==============================] - 8s 279ms/step - loss: 0.5091 - accuracy: 0.7612\n",
      "Epoch 27/30\n",
      "28/28 [==============================] - 8s 283ms/step - loss: 0.5105 - accuracy: 0.7600\n",
      "Epoch 28/30\n",
      "28/28 [==============================] - 8s 284ms/step - loss: 0.5041 - accuracy: 0.7649\n",
      "Epoch 29/30\n",
      "28/28 [==============================] - 8s 276ms/step - loss: 0.5053 - accuracy: 0.7615\n",
      "Epoch 30/30\n",
      "28/28 [==============================] - 8s 283ms/step - loss: 0.5030 - accuracy: 0.7628\n"
     ]
    }
   ],
   "source": [
    "model = get_test_conv_model()\n",
    "# model.summary()\n",
    "history = model.fit(traingen, validation_data = valgen, epochs=epochs)"
   ]
  },
  {
   "cell_type": "code",
   "execution_count": 12,
   "id": "51b6f0ef-cdfa-40dc-b4a9-25c0912b3eee",
   "metadata": {},
   "outputs": [
    {
     "name": "stdout",
     "output_type": "stream",
     "text": [
      "10/10 [==============================] - 0s 6ms/step\n",
      "accuracy: 0.767515923566879\n"
     ]
    }
   ],
   "source": [
    "predictions = model.predict(valgen[0][0])\n",
    "true_vals = valgen[0][1]\n",
    "\n",
    "correct = 0\n",
    "for idx, pred in enumerate(predictions):\n",
    "    pred_round = 0\n",
    "    if pred >= 0.5:\n",
    "        pred_round = 1\n",
    "    if pred_round == true_vals[idx]:\n",
    "        correct += 1\n",
    "\n",
    "print(f'accuracy: {correct/(len(true_vals))}')"
   ]
  },
  {
   "cell_type": "code",
   "execution_count": 13,
   "id": "5a6804e6-b999-48ab-988f-af2b3068e1e9",
   "metadata": {},
   "outputs": [],
   "source": [
    "model.save_weights(f'{RESNET_CHECKPOINTS_DIR}/simple_conv')"
   ]
  },
  {
   "cell_type": "code",
   "execution_count": 18,
   "id": "bd12fa16-baa0-4e20-889d-3b5e955389bb",
   "metadata": {},
   "outputs": [],
   "source": [
    "epochs = 30\n",
    "callback = tf.keras.callbacks.EarlyStopping(monitor='val_loss', patience=10)\n",
    "adam_fine = Adam(learning_rate=0.00005, beta_1=0.9, beta_2=0.999, decay=0.0002, amsgrad=False)\n",
    "lr_schedule = tf.keras.optimizers.schedules.ExponentialDecay(\n",
    "    initial_learning_rate=1e-3,\n",
    "    decay_steps=10000,\n",
    "    decay_rate=0.9)\n",
    "optimizer = tf.keras.optimizers.SGD(learning_rate=lr_schedule)"
   ]
  },
  {
   "cell_type": "code",
   "execution_count": 19,
   "id": "17f1c8f8-bb94-404a-b613-e1513d1c0956",
   "metadata": {},
   "outputs": [
    {
     "name": "stdout",
     "output_type": "stream",
     "text": [
      "channels_last\n"
     ]
    },
    {
     "name": "stderr",
     "output_type": "stream",
     "text": [
      "2022-07-28 04:14:39.334111: I tensorflow/core/platform/cpu_feature_guard.cc:193] This TensorFlow binary is optimized with oneAPI Deep Neural Network Library (oneDNN) to use the following CPU instructions in performance-critical operations:  AVX2 FMA\n",
      "To enable them in other operations, rebuild TensorFlow with the appropriate compiler flags.\n",
      "2022-07-28 04:14:40.006827: I tensorflow/core/common_runtime/gpu/gpu_device.cc:1532] Created device /job:localhost/replica:0/task:0/device:GPU:0 with 6656 MB memory:  -> device: 0, name: GeForce RTX 2080, pci bus id: 0000:82:00.0, compute capability: 7.5\n"
     ]
    },
    {
     "name": "stdout",
     "output_type": "stream",
     "text": [
      "Epoch 1/30\n"
     ]
    },
    {
     "name": "stderr",
     "output_type": "stream",
     "text": [
      "2022-07-28 04:14:46.675046: I tensorflow/stream_executor/cuda/cuda_dnn.cc:384] Loaded cuDNN version 8100\n",
      "2022-07-28 04:14:47.296835: I tensorflow/core/platform/default/subprocess.cc:304] Start cannot spawn child process: No such file or directory\n",
      "2022-07-28 04:14:47.302075: W tensorflow/stream_executor/gpu/asm_compiler.cc:111] *** WARNING *** You are using ptxas 10.0.145, which is older than 11.1. ptxas before 11.1 is known to miscompile XLA code, leading to incorrect results or invalid-address errors.\n",
      "\n",
      "You may not need to update to CUDA 11.1; cherry-picking the ptxas binary is often sufficient.\n"
     ]
    },
    {
     "name": "stdout",
     "output_type": "stream",
     "text": [
      "230/230 [==============================] - 64s 241ms/step - loss: 0.8622 - accuracy: 0.5050 - val_loss: 0.7033 - val_accuracy: 0.4766\n",
      "Epoch 2/30\n",
      "230/230 [==============================] - 55s 237ms/step - loss: 0.6572 - accuracy: 0.6761 - val_loss: 0.5637 - val_accuracy: 0.7500\n",
      "Epoch 3/30\n",
      "230/230 [==============================] - 55s 238ms/step - loss: 0.6280 - accuracy: 0.6996 - val_loss: 0.5443 - val_accuracy: 0.7773\n",
      "Epoch 4/30\n",
      "230/230 [==============================] - 55s 238ms/step - loss: 0.6207 - accuracy: 0.7023 - val_loss: 0.7138 - val_accuracy: 0.7656\n",
      "Epoch 5/30\n",
      "230/230 [==============================] - 55s 237ms/step - loss: 0.6171 - accuracy: 0.7068 - val_loss: 0.5424 - val_accuracy: 0.7773\n",
      "Epoch 6/30\n",
      "230/230 [==============================] - 55s 238ms/step - loss: 0.6098 - accuracy: 0.7107 - val_loss: 0.5187 - val_accuracy: 0.7656\n",
      "Epoch 7/30\n",
      "230/230 [==============================] - 55s 237ms/step - loss: 0.6013 - accuracy: 0.7124 - val_loss: 0.7074 - val_accuracy: 0.7695\n",
      "Epoch 8/30\n",
      "230/230 [==============================] - 55s 238ms/step - loss: 0.5943 - accuracy: 0.7165 - val_loss: 0.5373 - val_accuracy: 0.7812\n",
      "Epoch 9/30\n",
      "230/230 [==============================] - 55s 238ms/step - loss: 0.5896 - accuracy: 0.7186 - val_loss: 0.5843 - val_accuracy: 0.7812\n",
      "Epoch 10/30\n",
      "230/230 [==============================] - 55s 238ms/step - loss: 0.5874 - accuracy: 0.7195 - val_loss: 0.5949 - val_accuracy: 0.7773\n",
      "Epoch 11/30\n",
      "230/230 [==============================] - 55s 238ms/step - loss: 0.5802 - accuracy: 0.7192 - val_loss: 0.4729 - val_accuracy: 0.7852\n",
      "Epoch 12/30\n",
      "230/230 [==============================] - 55s 238ms/step - loss: 0.5808 - accuracy: 0.7240 - val_loss: 0.5358 - val_accuracy: 0.7852\n",
      "Epoch 13/30\n",
      "230/230 [==============================] - 55s 238ms/step - loss: 0.5722 - accuracy: 0.7274 - val_loss: 0.5211 - val_accuracy: 0.7852\n",
      "Epoch 14/30\n",
      "230/230 [==============================] - 55s 238ms/step - loss: 0.5699 - accuracy: 0.7275 - val_loss: 0.5085 - val_accuracy: 0.7891\n",
      "Epoch 15/30\n",
      "230/230 [==============================] - 55s 238ms/step - loss: 0.5601 - accuracy: 0.7344 - val_loss: 0.5188 - val_accuracy: 0.7852\n",
      "Epoch 16/30\n",
      "230/230 [==============================] - 55s 238ms/step - loss: 0.5621 - accuracy: 0.7322 - val_loss: 0.5159 - val_accuracy: 0.7461\n",
      "Epoch 17/30\n",
      "230/230 [==============================] - 55s 238ms/step - loss: 0.5582 - accuracy: 0.7355 - val_loss: 0.5350 - val_accuracy: 0.7773\n",
      "Epoch 18/30\n",
      "230/230 [==============================] - 55s 238ms/step - loss: 0.5586 - accuracy: 0.7355 - val_loss: 0.4618 - val_accuracy: 0.8008\n",
      "Epoch 19/30\n",
      "230/230 [==============================] - 55s 238ms/step - loss: 0.5503 - accuracy: 0.7377 - val_loss: 0.4948 - val_accuracy: 0.8047\n",
      "Epoch 20/30\n",
      "230/230 [==============================] - 55s 238ms/step - loss: 0.5505 - accuracy: 0.7397 - val_loss: 0.5389 - val_accuracy: 0.7930\n",
      "Epoch 21/30\n",
      "230/230 [==============================] - 55s 238ms/step - loss: 0.5475 - accuracy: 0.7406 - val_loss: 0.5034 - val_accuracy: 0.8047\n",
      "Epoch 22/30\n",
      "230/230 [==============================] - 55s 238ms/step - loss: 0.5453 - accuracy: 0.7422 - val_loss: 0.5375 - val_accuracy: 0.7891\n",
      "Epoch 23/30\n",
      "230/230 [==============================] - 55s 238ms/step - loss: 0.5416 - accuracy: 0.7442 - val_loss: 0.5312 - val_accuracy: 0.7656\n",
      "Epoch 24/30\n",
      "230/230 [==============================] - 55s 238ms/step - loss: 0.5407 - accuracy: 0.7446 - val_loss: 0.4952 - val_accuracy: 0.7852\n",
      "Epoch 25/30\n",
      "230/230 [==============================] - 55s 238ms/step - loss: 0.5336 - accuracy: 0.7460 - val_loss: 0.5389 - val_accuracy: 0.7891\n",
      "Epoch 26/30\n",
      "230/230 [==============================] - 55s 238ms/step - loss: 0.5366 - accuracy: 0.7450 - val_loss: 0.4642 - val_accuracy: 0.8047\n",
      "Epoch 27/30\n",
      "230/230 [==============================] - 55s 238ms/step - loss: 0.5340 - accuracy: 0.7474 - val_loss: 0.5259 - val_accuracy: 0.7891\n",
      "Epoch 28/30\n",
      "230/230 [==============================] - 55s 238ms/step - loss: 0.5264 - accuracy: 0.7520 - val_loss: 0.5710 - val_accuracy: 0.8086\n",
      "Epoch 29/30\n",
      "230/230 [==============================] - 55s 238ms/step - loss: 0.5265 - accuracy: 0.7472 - val_loss: 0.5599 - val_accuracy: 0.7656\n",
      "Epoch 30/30\n",
      "230/230 [==============================] - 55s 238ms/step - loss: 0.5246 - accuracy: 0.7517 - val_loss: 0.5857 - val_accuracy: 0.7852\n"
     ]
    }
   ],
   "source": [
    "model = CustomResNet50(include_top=True)\n",
    "model.compile(loss='binary_crossentropy', optimizer=optimizer, metrics=['accuracy'])\n",
    "\n",
    "history = model.fit(traingen, validation_data = valgen, epochs=epochs)"
   ]
  },
  {
   "cell_type": "code",
   "execution_count": 21,
   "id": "d1a6ccfb-0a09-4176-9fd4-11a0675d510f",
   "metadata": {},
   "outputs": [],
   "source": [
    "model.save_weights(f'{RESNET_CHECKPOINTS_DIR}/sgd_newdata_B_class_1e-3_checkpoint')"
   ]
  },
  {
   "cell_type": "code",
   "execution_count": 35,
   "id": "243ccdb5-2eab-47a1-be6d-f8f5a9655a55",
   "metadata": {},
   "outputs": [],
   "source": [
    "t = np.load('./data/B_data/train/positive/AIA20160107_0354_0094_0.npy')\n",
    "t = cv2.resize(t, (128, 128), interpolation = cv2.INTER_AREA)\n",
    "t = np.array([t.reshape(128, 128, 1)]) "
   ]
  },
  {
   "cell_type": "code",
   "execution_count": 36,
   "id": "b9a10844-9a83-466b-8048-5fce4054e3f7",
   "metadata": {},
   "outputs": [
    {
     "name": "stdout",
     "output_type": "stream",
     "text": [
      "1/1 [==============================] - 0s 39ms/step\n"
     ]
    },
    {
     "data": {
      "text/plain": [
       "array([[0.9931339]], dtype=float32)"
      ]
     },
     "execution_count": 36,
     "metadata": {},
     "output_type": "execute_result"
    }
   ],
   "source": [
    "model.predict(t)"
   ]
  },
  {
   "cell_type": "code",
   "execution_count": 37,
   "id": "d68825b8-ba01-47a2-aed6-53f8772fa784",
   "metadata": {},
   "outputs": [
    {
     "data": {
      "image/png": "[encoded data removed]",
      "text/plain": [
       "<Figure size 432x288 with 1 Axes>"
      ]
     },
     "metadata": {
      "needs_background": "light"
     },
     "output_type": "display_data"
    }
   ],
   "source": [
    "plt.plot(history.history['accuracy'])\n",
    "plt.plot(history.history['val_accuracy'])\n",
    "plt.title('model accuracy')\n",
    "plt.ylabel('accuracy')\n",
    "plt.xlabel('epoch')\n",
    "plt.legend(['train', 'val'], loc='upper left')\n",
    "plt.show()"
   ]
  },
  {
   "cell_type": "code",
   "execution_count": 38,
   "id": "8799941a-c143-4b89-a9d2-23bb7a953a55",
   "metadata": {},
   "outputs": [
    {
     "data": {
      "image/png": "[encoded data removed]",
      "text/plain": [
       "<Figure size 432x288 with 1 Axes>"
      ]
     },
     "metadata": {
      "needs_background": "light"
     },
     "output_type": "display_data"
    }
   ],
   "source": [
    "plt.plot(history.history['loss'])\n",
    "plt.plot(history.history['val_loss'])\n",
    "plt.title('model loss')\n",
    "plt.ylabel('loss')\n",
    "plt.xlabel('epoch')\n",
    "plt.legend(['train', 'val'], loc='upper left')\n",
    "plt.show()"
   ]
  }
 ],
 "metadata": {
  "kernelspec": {
   "display_name": "Python 3 (ipykernel)",
   "language": "python",
   "name": "python3"
  },
  "language_info": {
   "codemirror_mode": {
    "name": "ipython",
    "version": 3
   },
   "file_extension": ".py",
   "mimetype": "text/x-python",
   "name": "python",
   "nbconvert_exporter": "python",
   "pygments_lexer": "ipython3",
   "version": "3.9.13"
  }
 },
 "nbformat": 4,
 "nbformat_minor": 5
}
